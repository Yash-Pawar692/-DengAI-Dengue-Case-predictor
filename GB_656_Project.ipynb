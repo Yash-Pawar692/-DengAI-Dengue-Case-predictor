{
  "nbformat": 4,
  "nbformat_minor": 0,
  "metadata": {
    "colab": {
      "provenance": []
    },
    "kernelspec": {
      "name": "python3",
      "display_name": "Python 3"
    },
    "language_info": {
      "name": "python"
    }
  },
  "cells": [
    {
      "cell_type": "markdown",
      "source": [
        "# Exploring the data and cleaning the data"
      ],
      "metadata": {
        "id": "5KsrRrhQmEFk"
      }
    },
    {
      "cell_type": "code",
      "execution_count": null,
      "metadata": {
        "id": "lnLjDm3MrnAb"
      },
      "outputs": [],
      "source": [
        "import numpy as np \n",
        "import matplotlib.pyplot as plt  \n",
        "import matplotlib.lines as mlines\n",
        "import pandas as pd   \n",
        "import seaborn as sns\n",
        "from random import sample\n",
        "from sklearn.linear_model import LinearRegression\n",
        "import scipy.stats as st\n",
        "import statsmodels.api as sm\n",
        "from sklearn.linear_model import LinearRegression\n",
        "from sklearn.metrics import r2_score\n",
        "from statsmodels.regression.linear_model import OLS\n",
        "from statsmodels.tools import add_constant,eval_measures\n",
        "from sklearn.model_selection import train_test_split\n",
        "import sys\n",
        "\n",
        "\n",
        "from sklearn.preprocessing import MinMaxScaler, StandardScaler # For rescaling metrics to fit 0 to 1 range\n",
        "from sklearn.ensemble import BaggingClassifier, RandomForestClassifier, BaggingRegressor, RandomForestRegressor, GradientBoostingRegressor\n",
        "from sklearn.metrics import mean_squared_error,confusion_matrix, classification_report, roc_curve, auc, ConfusionMatrixDisplay\n",
        "from sklearn.cluster import KMeans, AgglomerativeClustering\n",
        "from sklearn.decomposition import PCA\n",
        "from scipy.spatial.distance import euclidean\n",
        "from sklearn.tree import DecisionTreeRegressor, DecisionTreeClassifier, export_graphviz"
      ]
    },
    {
      "cell_type": "markdown",
      "source": [
        "https://www.drivendata.org/competitions/44/dengai-predicting-disease-spread/page/82/\n",
        "This is the link to the competition we are participating in."
      ],
      "metadata": {
        "id": "xeF75irrVzXQ"
      }
    },
    {
      "cell_type": "code",
      "source": [
        "#upload the input data from excel\n",
        "import io\n",
        "from google.colab import files\n",
        "uploaded = files.upload()\n",
        "file = io.BytesIO(uploaded['training_data.csv'])"
      ],
      "metadata": {
        "colab": {
          "base_uri": "https://localhost:8080/",
          "height": 74
        },
        "id": "PD1nPru4scbA",
        "outputId": "d1eaa4a9-ff83-483e-e3b8-41a049d03427"
      },
      "execution_count": null,
      "outputs": [
        {
          "output_type": "display_data",
          "data": {
            "text/plain": [
              "<IPython.core.display.HTML object>"
            ],
            "text/html": [
              "\n",
              "     <input type=\"file\" id=\"files-0bdad909-3188-43c1-bb77-d268950a5f92\" name=\"files[]\" multiple disabled\n",
              "        style=\"border:none\" />\n",
              "     <output id=\"result-0bdad909-3188-43c1-bb77-d268950a5f92\">\n",
              "      Upload widget is only available when the cell has been executed in the\n",
              "      current browser session. Please rerun this cell to enable.\n",
              "      </output>\n",
              "      <script>// Copyright 2017 Google LLC\n",
              "//\n",
              "// Licensed under the Apache License, Version 2.0 (the \"License\");\n",
              "// you may not use this file except in compliance with the License.\n",
              "// You may obtain a copy of the License at\n",
              "//\n",
              "//      http://www.apache.org/licenses/LICENSE-2.0\n",
              "//\n",
              "// Unless required by applicable law or agreed to in writing, software\n",
              "// distributed under the License is distributed on an \"AS IS\" BASIS,\n",
              "// WITHOUT WARRANTIES OR CONDITIONS OF ANY KIND, either express or implied.\n",
              "// See the License for the specific language governing permissions and\n",
              "// limitations under the License.\n",
              "\n",
              "/**\n",
              " * @fileoverview Helpers for google.colab Python module.\n",
              " */\n",
              "(function(scope) {\n",
              "function span(text, styleAttributes = {}) {\n",
              "  const element = document.createElement('span');\n",
              "  element.textContent = text;\n",
              "  for (const key of Object.keys(styleAttributes)) {\n",
              "    element.style[key] = styleAttributes[key];\n",
              "  }\n",
              "  return element;\n",
              "}\n",
              "\n",
              "// Max number of bytes which will be uploaded at a time.\n",
              "const MAX_PAYLOAD_SIZE = 100 * 1024;\n",
              "\n",
              "function _uploadFiles(inputId, outputId) {\n",
              "  const steps = uploadFilesStep(inputId, outputId);\n",
              "  const outputElement = document.getElementById(outputId);\n",
              "  // Cache steps on the outputElement to make it available for the next call\n",
              "  // to uploadFilesContinue from Python.\n",
              "  outputElement.steps = steps;\n",
              "\n",
              "  return _uploadFilesContinue(outputId);\n",
              "}\n",
              "\n",
              "// This is roughly an async generator (not supported in the browser yet),\n",
              "// where there are multiple asynchronous steps and the Python side is going\n",
              "// to poll for completion of each step.\n",
              "// This uses a Promise to block the python side on completion of each step,\n",
              "// then passes the result of the previous step as the input to the next step.\n",
              "function _uploadFilesContinue(outputId) {\n",
              "  const outputElement = document.getElementById(outputId);\n",
              "  const steps = outputElement.steps;\n",
              "\n",
              "  const next = steps.next(outputElement.lastPromiseValue);\n",
              "  return Promise.resolve(next.value.promise).then((value) => {\n",
              "    // Cache the last promise value to make it available to the next\n",
              "    // step of the generator.\n",
              "    outputElement.lastPromiseValue = value;\n",
              "    return next.value.response;\n",
              "  });\n",
              "}\n",
              "\n",
              "/**\n",
              " * Generator function which is called between each async step of the upload\n",
              " * process.\n",
              " * @param {string} inputId Element ID of the input file picker element.\n",
              " * @param {string} outputId Element ID of the output display.\n",
              " * @return {!Iterable<!Object>} Iterable of next steps.\n",
              " */\n",
              "function* uploadFilesStep(inputId, outputId) {\n",
              "  const inputElement = document.getElementById(inputId);\n",
              "  inputElement.disabled = false;\n",
              "\n",
              "  const outputElement = document.getElementById(outputId);\n",
              "  outputElement.innerHTML = '';\n",
              "\n",
              "  const pickedPromise = new Promise((resolve) => {\n",
              "    inputElement.addEventListener('change', (e) => {\n",
              "      resolve(e.target.files);\n",
              "    });\n",
              "  });\n",
              "\n",
              "  const cancel = document.createElement('button');\n",
              "  inputElement.parentElement.appendChild(cancel);\n",
              "  cancel.textContent = 'Cancel upload';\n",
              "  const cancelPromise = new Promise((resolve) => {\n",
              "    cancel.onclick = () => {\n",
              "      resolve(null);\n",
              "    };\n",
              "  });\n",
              "\n",
              "  // Wait for the user to pick the files.\n",
              "  const files = yield {\n",
              "    promise: Promise.race([pickedPromise, cancelPromise]),\n",
              "    response: {\n",
              "      action: 'starting',\n",
              "    }\n",
              "  };\n",
              "\n",
              "  cancel.remove();\n",
              "\n",
              "  // Disable the input element since further picks are not allowed.\n",
              "  inputElement.disabled = true;\n",
              "\n",
              "  if (!files) {\n",
              "    return {\n",
              "      response: {\n",
              "        action: 'complete',\n",
              "      }\n",
              "    };\n",
              "  }\n",
              "\n",
              "  for (const file of files) {\n",
              "    const li = document.createElement('li');\n",
              "    li.append(span(file.name, {fontWeight: 'bold'}));\n",
              "    li.append(span(\n",
              "        `(${file.type || 'n/a'}) - ${file.size} bytes, ` +\n",
              "        `last modified: ${\n",
              "            file.lastModifiedDate ? file.lastModifiedDate.toLocaleDateString() :\n",
              "                                    'n/a'} - `));\n",
              "    const percent = span('0% done');\n",
              "    li.appendChild(percent);\n",
              "\n",
              "    outputElement.appendChild(li);\n",
              "\n",
              "    const fileDataPromise = new Promise((resolve) => {\n",
              "      const reader = new FileReader();\n",
              "      reader.onload = (e) => {\n",
              "        resolve(e.target.result);\n",
              "      };\n",
              "      reader.readAsArrayBuffer(file);\n",
              "    });\n",
              "    // Wait for the data to be ready.\n",
              "    let fileData = yield {\n",
              "      promise: fileDataPromise,\n",
              "      response: {\n",
              "        action: 'continue',\n",
              "      }\n",
              "    };\n",
              "\n",
              "    // Use a chunked sending to avoid message size limits. See b/62115660.\n",
              "    let position = 0;\n",
              "    do {\n",
              "      const length = Math.min(fileData.byteLength - position, MAX_PAYLOAD_SIZE);\n",
              "      const chunk = new Uint8Array(fileData, position, length);\n",
              "      position += length;\n",
              "\n",
              "      const base64 = btoa(String.fromCharCode.apply(null, chunk));\n",
              "      yield {\n",
              "        response: {\n",
              "          action: 'append',\n",
              "          file: file.name,\n",
              "          data: base64,\n",
              "        },\n",
              "      };\n",
              "\n",
              "      let percentDone = fileData.byteLength === 0 ?\n",
              "          100 :\n",
              "          Math.round((position / fileData.byteLength) * 100);\n",
              "      percent.textContent = `${percentDone}% done`;\n",
              "\n",
              "    } while (position < fileData.byteLength);\n",
              "  }\n",
              "\n",
              "  // All done.\n",
              "  yield {\n",
              "    response: {\n",
              "      action: 'complete',\n",
              "    }\n",
              "  };\n",
              "}\n",
              "\n",
              "scope.google = scope.google || {};\n",
              "scope.google.colab = scope.google.colab || {};\n",
              "scope.google.colab._files = {\n",
              "  _uploadFiles,\n",
              "  _uploadFilesContinue,\n",
              "};\n",
              "})(self);\n",
              "</script> "
            ]
          },
          "metadata": {}
        },
        {
          "output_type": "stream",
          "name": "stdout",
          "text": [
            "Saving training_data.csv to training_data (1).csv\n"
          ]
        }
      ]
    },
    {
      "cell_type": "code",
      "source": [
        "df = pd.read_csv('training_data.csv') \n",
        "df.head()"
      ],
      "metadata": {
        "colab": {
          "base_uri": "https://localhost:8080/",
          "height": 300
        },
        "id": "rWiYWQhWs5Yi",
        "outputId": "c441f3a3-a5ae-4247-a33b-acdf39bfd57a"
      },
      "execution_count": null,
      "outputs": [
        {
          "output_type": "execute_result",
          "data": {
            "text/plain": [
              "  city  year  weekofyear  month week_start_date   ndvi_ne   ndvi_nw   ndvi_se  \\\n",
              "0   sj  1990          18      4         4/30/90  0.122600  0.103725  0.198483   \n",
              "1   sj  1990          19      5          5/7/90  0.169900  0.142175  0.162357   \n",
              "2   sj  1990          20      5         5/14/90  0.032250  0.172967  0.157200   \n",
              "3   sj  1990          21      5         5/21/90  0.128633  0.245067  0.227557   \n",
              "4   sj  1990          22      5         5/28/90  0.196200  0.262200  0.251200   \n",
              "\n",
              "    ndvi_sw  precipitation_amt_mm  ...  reanalysis_relative_humidity_percent  \\\n",
              "0  0.177617                 12.42  ...                             73.365714   \n",
              "1  0.155486                 22.82  ...                             77.368571   \n",
              "2  0.170843                 34.54  ...                             82.052857   \n",
              "3  0.235886                 15.36  ...                             80.337143   \n",
              "4  0.247340                  7.52  ...                             80.460000   \n",
              "\n",
              "   reanalysis_sat_precip_amt_mm  reanalysis_specific_humidity_g_per_kg  \\\n",
              "0                         12.42                              14.012857   \n",
              "1                         22.82                              15.372857   \n",
              "2                         34.54                              16.848571   \n",
              "3                         15.36                              16.672857   \n",
              "4                          7.52                              17.210000   \n",
              "\n",
              "   reanalysis_tdtr_k  station_avg_temp_c  station_diur_temp_rng_c  \\\n",
              "0           2.628571           25.442857                 6.900000   \n",
              "1           2.371429           26.714286                 6.371429   \n",
              "2           2.300000           26.714286                 6.485714   \n",
              "3           2.428571           27.471429                 6.771429   \n",
              "4           3.014286           28.942857                 9.371429   \n",
              "\n",
              "   station_max_temp_c  station_min_temp_c  station_precip_mm  total_cases  \n",
              "0                29.4                20.0               16.0            4  \n",
              "1                31.7                22.2                8.6            5  \n",
              "2                32.2                22.8               41.4            4  \n",
              "3                33.3                23.3                4.0            3  \n",
              "4                35.0                23.9                5.8            6  \n",
              "\n",
              "[5 rows x 26 columns]"
            ],
            "text/html": [
              "\n",
              "  <div id=\"df-2ac88d41-8afa-4765-b874-5f194f4d2a3a\">\n",
              "    <div class=\"colab-df-container\">\n",
              "      <div>\n",
              "<style scoped>\n",
              "    .dataframe tbody tr th:only-of-type {\n",
              "        vertical-align: middle;\n",
              "    }\n",
              "\n",
              "    .dataframe tbody tr th {\n",
              "        vertical-align: top;\n",
              "    }\n",
              "\n",
              "    .dataframe thead th {\n",
              "        text-align: right;\n",
              "    }\n",
              "</style>\n",
              "<table border=\"1\" class=\"dataframe\">\n",
              "  <thead>\n",
              "    <tr style=\"text-align: right;\">\n",
              "      <th></th>\n",
              "      <th>city</th>\n",
              "      <th>year</th>\n",
              "      <th>weekofyear</th>\n",
              "      <th>month</th>\n",
              "      <th>week_start_date</th>\n",
              "      <th>ndvi_ne</th>\n",
              "      <th>ndvi_nw</th>\n",
              "      <th>ndvi_se</th>\n",
              "      <th>ndvi_sw</th>\n",
              "      <th>precipitation_amt_mm</th>\n",
              "      <th>...</th>\n",
              "      <th>reanalysis_relative_humidity_percent</th>\n",
              "      <th>reanalysis_sat_precip_amt_mm</th>\n",
              "      <th>reanalysis_specific_humidity_g_per_kg</th>\n",
              "      <th>reanalysis_tdtr_k</th>\n",
              "      <th>station_avg_temp_c</th>\n",
              "      <th>station_diur_temp_rng_c</th>\n",
              "      <th>station_max_temp_c</th>\n",
              "      <th>station_min_temp_c</th>\n",
              "      <th>station_precip_mm</th>\n",
              "      <th>total_cases</th>\n",
              "    </tr>\n",
              "  </thead>\n",
              "  <tbody>\n",
              "    <tr>\n",
              "      <th>0</th>\n",
              "      <td>sj</td>\n",
              "      <td>1990</td>\n",
              "      <td>18</td>\n",
              "      <td>4</td>\n",
              "      <td>4/30/90</td>\n",
              "      <td>0.122600</td>\n",
              "      <td>0.103725</td>\n",
              "      <td>0.198483</td>\n",
              "      <td>0.177617</td>\n",
              "      <td>12.42</td>\n",
              "      <td>...</td>\n",
              "      <td>73.365714</td>\n",
              "      <td>12.42</td>\n",
              "      <td>14.012857</td>\n",
              "      <td>2.628571</td>\n",
              "      <td>25.442857</td>\n",
              "      <td>6.900000</td>\n",
              "      <td>29.4</td>\n",
              "      <td>20.0</td>\n",
              "      <td>16.0</td>\n",
              "      <td>4</td>\n",
              "    </tr>\n",
              "    <tr>\n",
              "      <th>1</th>\n",
              "      <td>sj</td>\n",
              "      <td>1990</td>\n",
              "      <td>19</td>\n",
              "      <td>5</td>\n",
              "      <td>5/7/90</td>\n",
              "      <td>0.169900</td>\n",
              "      <td>0.142175</td>\n",
              "      <td>0.162357</td>\n",
              "      <td>0.155486</td>\n",
              "      <td>22.82</td>\n",
              "      <td>...</td>\n",
              "      <td>77.368571</td>\n",
              "      <td>22.82</td>\n",
              "      <td>15.372857</td>\n",
              "      <td>2.371429</td>\n",
              "      <td>26.714286</td>\n",
              "      <td>6.371429</td>\n",
              "      <td>31.7</td>\n",
              "      <td>22.2</td>\n",
              "      <td>8.6</td>\n",
              "      <td>5</td>\n",
              "    </tr>\n",
              "    <tr>\n",
              "      <th>2</th>\n",
              "      <td>sj</td>\n",
              "      <td>1990</td>\n",
              "      <td>20</td>\n",
              "      <td>5</td>\n",
              "      <td>5/14/90</td>\n",
              "      <td>0.032250</td>\n",
              "      <td>0.172967</td>\n",
              "      <td>0.157200</td>\n",
              "      <td>0.170843</td>\n",
              "      <td>34.54</td>\n",
              "      <td>...</td>\n",
              "      <td>82.052857</td>\n",
              "      <td>34.54</td>\n",
              "      <td>16.848571</td>\n",
              "      <td>2.300000</td>\n",
              "      <td>26.714286</td>\n",
              "      <td>6.485714</td>\n",
              "      <td>32.2</td>\n",
              "      <td>22.8</td>\n",
              "      <td>41.4</td>\n",
              "      <td>4</td>\n",
              "    </tr>\n",
              "    <tr>\n",
              "      <th>3</th>\n",
              "      <td>sj</td>\n",
              "      <td>1990</td>\n",
              "      <td>21</td>\n",
              "      <td>5</td>\n",
              "      <td>5/21/90</td>\n",
              "      <td>0.128633</td>\n",
              "      <td>0.245067</td>\n",
              "      <td>0.227557</td>\n",
              "      <td>0.235886</td>\n",
              "      <td>15.36</td>\n",
              "      <td>...</td>\n",
              "      <td>80.337143</td>\n",
              "      <td>15.36</td>\n",
              "      <td>16.672857</td>\n",
              "      <td>2.428571</td>\n",
              "      <td>27.471429</td>\n",
              "      <td>6.771429</td>\n",
              "      <td>33.3</td>\n",
              "      <td>23.3</td>\n",
              "      <td>4.0</td>\n",
              "      <td>3</td>\n",
              "    </tr>\n",
              "    <tr>\n",
              "      <th>4</th>\n",
              "      <td>sj</td>\n",
              "      <td>1990</td>\n",
              "      <td>22</td>\n",
              "      <td>5</td>\n",
              "      <td>5/28/90</td>\n",
              "      <td>0.196200</td>\n",
              "      <td>0.262200</td>\n",
              "      <td>0.251200</td>\n",
              "      <td>0.247340</td>\n",
              "      <td>7.52</td>\n",
              "      <td>...</td>\n",
              "      <td>80.460000</td>\n",
              "      <td>7.52</td>\n",
              "      <td>17.210000</td>\n",
              "      <td>3.014286</td>\n",
              "      <td>28.942857</td>\n",
              "      <td>9.371429</td>\n",
              "      <td>35.0</td>\n",
              "      <td>23.9</td>\n",
              "      <td>5.8</td>\n",
              "      <td>6</td>\n",
              "    </tr>\n",
              "  </tbody>\n",
              "</table>\n",
              "<p>5 rows × 26 columns</p>\n",
              "</div>\n",
              "      <button class=\"colab-df-convert\" onclick=\"convertToInteractive('df-2ac88d41-8afa-4765-b874-5f194f4d2a3a')\"\n",
              "              title=\"Convert this dataframe to an interactive table.\"\n",
              "              style=\"display:none;\">\n",
              "        \n",
              "  <svg xmlns=\"http://www.w3.org/2000/svg\" height=\"24px\"viewBox=\"0 0 24 24\"\n",
              "       width=\"24px\">\n",
              "    <path d=\"M0 0h24v24H0V0z\" fill=\"none\"/>\n",
              "    <path d=\"M18.56 5.44l.94 2.06.94-2.06 2.06-.94-2.06-.94-.94-2.06-.94 2.06-2.06.94zm-11 1L8.5 8.5l.94-2.06 2.06-.94-2.06-.94L8.5 2.5l-.94 2.06-2.06.94zm10 10l.94 2.06.94-2.06 2.06-.94-2.06-.94-.94-2.06-.94 2.06-2.06.94z\"/><path d=\"M17.41 7.96l-1.37-1.37c-.4-.4-.92-.59-1.43-.59-.52 0-1.04.2-1.43.59L10.3 9.45l-7.72 7.72c-.78.78-.78 2.05 0 2.83L4 21.41c.39.39.9.59 1.41.59.51 0 1.02-.2 1.41-.59l7.78-7.78 2.81-2.81c.8-.78.8-2.07 0-2.86zM5.41 20L4 18.59l7.72-7.72 1.47 1.35L5.41 20z\"/>\n",
              "  </svg>\n",
              "      </button>\n",
              "      \n",
              "  <style>\n",
              "    .colab-df-container {\n",
              "      display:flex;\n",
              "      flex-wrap:wrap;\n",
              "      gap: 12px;\n",
              "    }\n",
              "\n",
              "    .colab-df-convert {\n",
              "      background-color: #E8F0FE;\n",
              "      border: none;\n",
              "      border-radius: 50%;\n",
              "      cursor: pointer;\n",
              "      display: none;\n",
              "      fill: #1967D2;\n",
              "      height: 32px;\n",
              "      padding: 0 0 0 0;\n",
              "      width: 32px;\n",
              "    }\n",
              "\n",
              "    .colab-df-convert:hover {\n",
              "      background-color: #E2EBFA;\n",
              "      box-shadow: 0px 1px 2px rgba(60, 64, 67, 0.3), 0px 1px 3px 1px rgba(60, 64, 67, 0.15);\n",
              "      fill: #174EA6;\n",
              "    }\n",
              "\n",
              "    [theme=dark] .colab-df-convert {\n",
              "      background-color: #3B4455;\n",
              "      fill: #D2E3FC;\n",
              "    }\n",
              "\n",
              "    [theme=dark] .colab-df-convert:hover {\n",
              "      background-color: #434B5C;\n",
              "      box-shadow: 0px 1px 3px 1px rgba(0, 0, 0, 0.15);\n",
              "      filter: drop-shadow(0px 1px 2px rgba(0, 0, 0, 0.3));\n",
              "      fill: #FFFFFF;\n",
              "    }\n",
              "  </style>\n",
              "\n",
              "      <script>\n",
              "        const buttonEl =\n",
              "          document.querySelector('#df-2ac88d41-8afa-4765-b874-5f194f4d2a3a button.colab-df-convert');\n",
              "        buttonEl.style.display =\n",
              "          google.colab.kernel.accessAllowed ? 'block' : 'none';\n",
              "\n",
              "        async function convertToInteractive(key) {\n",
              "          const element = document.querySelector('#df-2ac88d41-8afa-4765-b874-5f194f4d2a3a');\n",
              "          const dataTable =\n",
              "            await google.colab.kernel.invokeFunction('convertToInteractive',\n",
              "                                                     [key], {});\n",
              "          if (!dataTable) return;\n",
              "\n",
              "          const docLinkHtml = 'Like what you see? Visit the ' +\n",
              "            '<a target=\"_blank\" href=https://colab.research.google.com/notebooks/data_table.ipynb>data table notebook</a>'\n",
              "            + ' to learn more about interactive tables.';\n",
              "          element.innerHTML = '';\n",
              "          dataTable['output_type'] = 'display_data';\n",
              "          await google.colab.output.renderOutput(dataTable, element);\n",
              "          const docLink = document.createElement('div');\n",
              "          docLink.innerHTML = docLinkHtml;\n",
              "          element.appendChild(docLink);\n",
              "        }\n",
              "      </script>\n",
              "    </div>\n",
              "  </div>\n",
              "  "
            ]
          },
          "metadata": {},
          "execution_count": 26
        }
      ]
    },
    {
      "cell_type": "code",
      "source": [
        "df.shape\n",
        "df['city'].value_counts()"
      ],
      "metadata": {
        "colab": {
          "base_uri": "https://localhost:8080/"
        },
        "id": "__gPpVih_oqM",
        "outputId": "187253a2-2bd9-4d7a-bcf0-1e63833dddf3"
      },
      "execution_count": null,
      "outputs": [
        {
          "output_type": "execute_result",
          "data": {
            "text/plain": [
              "sj    936\n",
              "iq    520\n",
              "Name: city, dtype: int64"
            ]
          },
          "metadata": {},
          "execution_count": 27
        }
      ]
    },
    {
      "cell_type": "code",
      "source": [
        "# uploading the Test data (dataset without total_cases)\n",
        "uploaded = files.upload()\n",
        "file = io.BytesIO(uploaded['test_data_features.csv'])"
      ],
      "metadata": {
        "id": "pVgqf97p_Ts5",
        "colab": {
          "base_uri": "https://localhost:8080/",
          "height": 74
        },
        "outputId": "7fbe1411-5a23-4d26-ce78-2539945fc6f4"
      },
      "execution_count": null,
      "outputs": [
        {
          "output_type": "display_data",
          "data": {
            "text/plain": [
              "<IPython.core.display.HTML object>"
            ],
            "text/html": [
              "\n",
              "     <input type=\"file\" id=\"files-1e131904-6fde-4b35-8bc0-ee6aed2fc499\" name=\"files[]\" multiple disabled\n",
              "        style=\"border:none\" />\n",
              "     <output id=\"result-1e131904-6fde-4b35-8bc0-ee6aed2fc499\">\n",
              "      Upload widget is only available when the cell has been executed in the\n",
              "      current browser session. Please rerun this cell to enable.\n",
              "      </output>\n",
              "      <script>// Copyright 2017 Google LLC\n",
              "//\n",
              "// Licensed under the Apache License, Version 2.0 (the \"License\");\n",
              "// you may not use this file except in compliance with the License.\n",
              "// You may obtain a copy of the License at\n",
              "//\n",
              "//      http://www.apache.org/licenses/LICENSE-2.0\n",
              "//\n",
              "// Unless required by applicable law or agreed to in writing, software\n",
              "// distributed under the License is distributed on an \"AS IS\" BASIS,\n",
              "// WITHOUT WARRANTIES OR CONDITIONS OF ANY KIND, either express or implied.\n",
              "// See the License for the specific language governing permissions and\n",
              "// limitations under the License.\n",
              "\n",
              "/**\n",
              " * @fileoverview Helpers for google.colab Python module.\n",
              " */\n",
              "(function(scope) {\n",
              "function span(text, styleAttributes = {}) {\n",
              "  const element = document.createElement('span');\n",
              "  element.textContent = text;\n",
              "  for (const key of Object.keys(styleAttributes)) {\n",
              "    element.style[key] = styleAttributes[key];\n",
              "  }\n",
              "  return element;\n",
              "}\n",
              "\n",
              "// Max number of bytes which will be uploaded at a time.\n",
              "const MAX_PAYLOAD_SIZE = 100 * 1024;\n",
              "\n",
              "function _uploadFiles(inputId, outputId) {\n",
              "  const steps = uploadFilesStep(inputId, outputId);\n",
              "  const outputElement = document.getElementById(outputId);\n",
              "  // Cache steps on the outputElement to make it available for the next call\n",
              "  // to uploadFilesContinue from Python.\n",
              "  outputElement.steps = steps;\n",
              "\n",
              "  return _uploadFilesContinue(outputId);\n",
              "}\n",
              "\n",
              "// This is roughly an async generator (not supported in the browser yet),\n",
              "// where there are multiple asynchronous steps and the Python side is going\n",
              "// to poll for completion of each step.\n",
              "// This uses a Promise to block the python side on completion of each step,\n",
              "// then passes the result of the previous step as the input to the next step.\n",
              "function _uploadFilesContinue(outputId) {\n",
              "  const outputElement = document.getElementById(outputId);\n",
              "  const steps = outputElement.steps;\n",
              "\n",
              "  const next = steps.next(outputElement.lastPromiseValue);\n",
              "  return Promise.resolve(next.value.promise).then((value) => {\n",
              "    // Cache the last promise value to make it available to the next\n",
              "    // step of the generator.\n",
              "    outputElement.lastPromiseValue = value;\n",
              "    return next.value.response;\n",
              "  });\n",
              "}\n",
              "\n",
              "/**\n",
              " * Generator function which is called between each async step of the upload\n",
              " * process.\n",
              " * @param {string} inputId Element ID of the input file picker element.\n",
              " * @param {string} outputId Element ID of the output display.\n",
              " * @return {!Iterable<!Object>} Iterable of next steps.\n",
              " */\n",
              "function* uploadFilesStep(inputId, outputId) {\n",
              "  const inputElement = document.getElementById(inputId);\n",
              "  inputElement.disabled = false;\n",
              "\n",
              "  const outputElement = document.getElementById(outputId);\n",
              "  outputElement.innerHTML = '';\n",
              "\n",
              "  const pickedPromise = new Promise((resolve) => {\n",
              "    inputElement.addEventListener('change', (e) => {\n",
              "      resolve(e.target.files);\n",
              "    });\n",
              "  });\n",
              "\n",
              "  const cancel = document.createElement('button');\n",
              "  inputElement.parentElement.appendChild(cancel);\n",
              "  cancel.textContent = 'Cancel upload';\n",
              "  const cancelPromise = new Promise((resolve) => {\n",
              "    cancel.onclick = () => {\n",
              "      resolve(null);\n",
              "    };\n",
              "  });\n",
              "\n",
              "  // Wait for the user to pick the files.\n",
              "  const files = yield {\n",
              "    promise: Promise.race([pickedPromise, cancelPromise]),\n",
              "    response: {\n",
              "      action: 'starting',\n",
              "    }\n",
              "  };\n",
              "\n",
              "  cancel.remove();\n",
              "\n",
              "  // Disable the input element since further picks are not allowed.\n",
              "  inputElement.disabled = true;\n",
              "\n",
              "  if (!files) {\n",
              "    return {\n",
              "      response: {\n",
              "        action: 'complete',\n",
              "      }\n",
              "    };\n",
              "  }\n",
              "\n",
              "  for (const file of files) {\n",
              "    const li = document.createElement('li');\n",
              "    li.append(span(file.name, {fontWeight: 'bold'}));\n",
              "    li.append(span(\n",
              "        `(${file.type || 'n/a'}) - ${file.size} bytes, ` +\n",
              "        `last modified: ${\n",
              "            file.lastModifiedDate ? file.lastModifiedDate.toLocaleDateString() :\n",
              "                                    'n/a'} - `));\n",
              "    const percent = span('0% done');\n",
              "    li.appendChild(percent);\n",
              "\n",
              "    outputElement.appendChild(li);\n",
              "\n",
              "    const fileDataPromise = new Promise((resolve) => {\n",
              "      const reader = new FileReader();\n",
              "      reader.onload = (e) => {\n",
              "        resolve(e.target.result);\n",
              "      };\n",
              "      reader.readAsArrayBuffer(file);\n",
              "    });\n",
              "    // Wait for the data to be ready.\n",
              "    let fileData = yield {\n",
              "      promise: fileDataPromise,\n",
              "      response: {\n",
              "        action: 'continue',\n",
              "      }\n",
              "    };\n",
              "\n",
              "    // Use a chunked sending to avoid message size limits. See b/62115660.\n",
              "    let position = 0;\n",
              "    do {\n",
              "      const length = Math.min(fileData.byteLength - position, MAX_PAYLOAD_SIZE);\n",
              "      const chunk = new Uint8Array(fileData, position, length);\n",
              "      position += length;\n",
              "\n",
              "      const base64 = btoa(String.fromCharCode.apply(null, chunk));\n",
              "      yield {\n",
              "        response: {\n",
              "          action: 'append',\n",
              "          file: file.name,\n",
              "          data: base64,\n",
              "        },\n",
              "      };\n",
              "\n",
              "      let percentDone = fileData.byteLength === 0 ?\n",
              "          100 :\n",
              "          Math.round((position / fileData.byteLength) * 100);\n",
              "      percent.textContent = `${percentDone}% done`;\n",
              "\n",
              "    } while (position < fileData.byteLength);\n",
              "  }\n",
              "\n",
              "  // All done.\n",
              "  yield {\n",
              "    response: {\n",
              "      action: 'complete',\n",
              "    }\n",
              "  };\n",
              "}\n",
              "\n",
              "scope.google = scope.google || {};\n",
              "scope.google.colab = scope.google.colab || {};\n",
              "scope.google.colab._files = {\n",
              "  _uploadFiles,\n",
              "  _uploadFilesContinue,\n",
              "};\n",
              "})(self);\n",
              "</script> "
            ]
          },
          "metadata": {}
        },
        {
          "output_type": "stream",
          "name": "stdout",
          "text": [
            "Saving test_data_features.csv to test_data_features (1).csv\n"
          ]
        }
      ]
    },
    {
      "cell_type": "code",
      "source": [
        "test_df = pd.read_csv('test_data_features.csv') \n",
        "test_df.head()"
      ],
      "metadata": {
        "colab": {
          "base_uri": "https://localhost:8080/",
          "height": 300
        },
        "id": "6X_p4Wd7BC4B",
        "outputId": "e5b8b1b8-13bd-4a22-f237-9cb8c2d54821"
      },
      "execution_count": null,
      "outputs": [
        {
          "output_type": "execute_result",
          "data": {
            "text/plain": [
              "  city  year  weekofyear  month week_start_date  ndvi_ne   ndvi_nw   ndvi_se  \\\n",
              "0   sj  2008          18      4         4/29/08  -0.0189 -0.018900  0.102729   \n",
              "1   sj  2008          19      5          5/6/08  -0.0180 -0.012400  0.082043   \n",
              "2   sj  2008          20      5         5/13/08  -0.0015       NaN  0.151083   \n",
              "3   sj  2008          21      5         5/20/08      NaN -0.019867  0.124329   \n",
              "4   sj  2008          22      5         5/27/08   0.0568  0.039833  0.062267   \n",
              "\n",
              "    ndvi_sw  precipitation_amt_mm  ...  reanalysis_precip_amt_kg_per_m2  \\\n",
              "0  0.091200                 78.60  ...                            25.37   \n",
              "1  0.072314                 12.56  ...                            21.83   \n",
              "2  0.091529                  3.66  ...                             4.12   \n",
              "3  0.125686                  0.00  ...                             2.20   \n",
              "4  0.075914                  0.76  ...                             4.36   \n",
              "\n",
              "   reanalysis_relative_humidity_percent  reanalysis_sat_precip_amt_mm  \\\n",
              "0                             78.781429                         78.60   \n",
              "1                             78.230000                         12.56   \n",
              "2                             78.270000                          3.66   \n",
              "3                             73.015714                          0.00   \n",
              "4                             74.084286                          0.76   \n",
              "\n",
              "   reanalysis_specific_humidity_g_per_kg  reanalysis_tdtr_k  \\\n",
              "0                              15.918571           3.128571   \n",
              "1                              15.791429           2.571429   \n",
              "2                              16.674286           4.428571   \n",
              "3                              15.775714           4.342857   \n",
              "4                              16.137143           3.542857   \n",
              "\n",
              "   station_avg_temp_c  station_diur_temp_rng_c  station_max_temp_c  \\\n",
              "0           26.528571                 7.057143                33.3   \n",
              "1           26.071429                 5.557143                30.0   \n",
              "2           27.928571                 7.785714                32.8   \n",
              "3           28.057143                 6.271429                33.3   \n",
              "4           27.614286                 7.085714                33.3   \n",
              "\n",
              "   station_min_temp_c  station_precip_mm  \n",
              "0                21.7               75.2  \n",
              "1                22.2               34.3  \n",
              "2                22.8                3.0  \n",
              "3                24.4                0.3  \n",
              "4                23.3               84.1  \n",
              "\n",
              "[5 rows x 25 columns]"
            ],
            "text/html": [
              "\n",
              "  <div id=\"df-33259f93-5f17-4f0a-aa96-d7ff660708f7\">\n",
              "    <div class=\"colab-df-container\">\n",
              "      <div>\n",
              "<style scoped>\n",
              "    .dataframe tbody tr th:only-of-type {\n",
              "        vertical-align: middle;\n",
              "    }\n",
              "\n",
              "    .dataframe tbody tr th {\n",
              "        vertical-align: top;\n",
              "    }\n",
              "\n",
              "    .dataframe thead th {\n",
              "        text-align: right;\n",
              "    }\n",
              "</style>\n",
              "<table border=\"1\" class=\"dataframe\">\n",
              "  <thead>\n",
              "    <tr style=\"text-align: right;\">\n",
              "      <th></th>\n",
              "      <th>city</th>\n",
              "      <th>year</th>\n",
              "      <th>weekofyear</th>\n",
              "      <th>month</th>\n",
              "      <th>week_start_date</th>\n",
              "      <th>ndvi_ne</th>\n",
              "      <th>ndvi_nw</th>\n",
              "      <th>ndvi_se</th>\n",
              "      <th>ndvi_sw</th>\n",
              "      <th>precipitation_amt_mm</th>\n",
              "      <th>...</th>\n",
              "      <th>reanalysis_precip_amt_kg_per_m2</th>\n",
              "      <th>reanalysis_relative_humidity_percent</th>\n",
              "      <th>reanalysis_sat_precip_amt_mm</th>\n",
              "      <th>reanalysis_specific_humidity_g_per_kg</th>\n",
              "      <th>reanalysis_tdtr_k</th>\n",
              "      <th>station_avg_temp_c</th>\n",
              "      <th>station_diur_temp_rng_c</th>\n",
              "      <th>station_max_temp_c</th>\n",
              "      <th>station_min_temp_c</th>\n",
              "      <th>station_precip_mm</th>\n",
              "    </tr>\n",
              "  </thead>\n",
              "  <tbody>\n",
              "    <tr>\n",
              "      <th>0</th>\n",
              "      <td>sj</td>\n",
              "      <td>2008</td>\n",
              "      <td>18</td>\n",
              "      <td>4</td>\n",
              "      <td>4/29/08</td>\n",
              "      <td>-0.0189</td>\n",
              "      <td>-0.018900</td>\n",
              "      <td>0.102729</td>\n",
              "      <td>0.091200</td>\n",
              "      <td>78.60</td>\n",
              "      <td>...</td>\n",
              "      <td>25.37</td>\n",
              "      <td>78.781429</td>\n",
              "      <td>78.60</td>\n",
              "      <td>15.918571</td>\n",
              "      <td>3.128571</td>\n",
              "      <td>26.528571</td>\n",
              "      <td>7.057143</td>\n",
              "      <td>33.3</td>\n",
              "      <td>21.7</td>\n",
              "      <td>75.2</td>\n",
              "    </tr>\n",
              "    <tr>\n",
              "      <th>1</th>\n",
              "      <td>sj</td>\n",
              "      <td>2008</td>\n",
              "      <td>19</td>\n",
              "      <td>5</td>\n",
              "      <td>5/6/08</td>\n",
              "      <td>-0.0180</td>\n",
              "      <td>-0.012400</td>\n",
              "      <td>0.082043</td>\n",
              "      <td>0.072314</td>\n",
              "      <td>12.56</td>\n",
              "      <td>...</td>\n",
              "      <td>21.83</td>\n",
              "      <td>78.230000</td>\n",
              "      <td>12.56</td>\n",
              "      <td>15.791429</td>\n",
              "      <td>2.571429</td>\n",
              "      <td>26.071429</td>\n",
              "      <td>5.557143</td>\n",
              "      <td>30.0</td>\n",
              "      <td>22.2</td>\n",
              "      <td>34.3</td>\n",
              "    </tr>\n",
              "    <tr>\n",
              "      <th>2</th>\n",
              "      <td>sj</td>\n",
              "      <td>2008</td>\n",
              "      <td>20</td>\n",
              "      <td>5</td>\n",
              "      <td>5/13/08</td>\n",
              "      <td>-0.0015</td>\n",
              "      <td>NaN</td>\n",
              "      <td>0.151083</td>\n",
              "      <td>0.091529</td>\n",
              "      <td>3.66</td>\n",
              "      <td>...</td>\n",
              "      <td>4.12</td>\n",
              "      <td>78.270000</td>\n",
              "      <td>3.66</td>\n",
              "      <td>16.674286</td>\n",
              "      <td>4.428571</td>\n",
              "      <td>27.928571</td>\n",
              "      <td>7.785714</td>\n",
              "      <td>32.8</td>\n",
              "      <td>22.8</td>\n",
              "      <td>3.0</td>\n",
              "    </tr>\n",
              "    <tr>\n",
              "      <th>3</th>\n",
              "      <td>sj</td>\n",
              "      <td>2008</td>\n",
              "      <td>21</td>\n",
              "      <td>5</td>\n",
              "      <td>5/20/08</td>\n",
              "      <td>NaN</td>\n",
              "      <td>-0.019867</td>\n",
              "      <td>0.124329</td>\n",
              "      <td>0.125686</td>\n",
              "      <td>0.00</td>\n",
              "      <td>...</td>\n",
              "      <td>2.20</td>\n",
              "      <td>73.015714</td>\n",
              "      <td>0.00</td>\n",
              "      <td>15.775714</td>\n",
              "      <td>4.342857</td>\n",
              "      <td>28.057143</td>\n",
              "      <td>6.271429</td>\n",
              "      <td>33.3</td>\n",
              "      <td>24.4</td>\n",
              "      <td>0.3</td>\n",
              "    </tr>\n",
              "    <tr>\n",
              "      <th>4</th>\n",
              "      <td>sj</td>\n",
              "      <td>2008</td>\n",
              "      <td>22</td>\n",
              "      <td>5</td>\n",
              "      <td>5/27/08</td>\n",
              "      <td>0.0568</td>\n",
              "      <td>0.039833</td>\n",
              "      <td>0.062267</td>\n",
              "      <td>0.075914</td>\n",
              "      <td>0.76</td>\n",
              "      <td>...</td>\n",
              "      <td>4.36</td>\n",
              "      <td>74.084286</td>\n",
              "      <td>0.76</td>\n",
              "      <td>16.137143</td>\n",
              "      <td>3.542857</td>\n",
              "      <td>27.614286</td>\n",
              "      <td>7.085714</td>\n",
              "      <td>33.3</td>\n",
              "      <td>23.3</td>\n",
              "      <td>84.1</td>\n",
              "    </tr>\n",
              "  </tbody>\n",
              "</table>\n",
              "<p>5 rows × 25 columns</p>\n",
              "</div>\n",
              "      <button class=\"colab-df-convert\" onclick=\"convertToInteractive('df-33259f93-5f17-4f0a-aa96-d7ff660708f7')\"\n",
              "              title=\"Convert this dataframe to an interactive table.\"\n",
              "              style=\"display:none;\">\n",
              "        \n",
              "  <svg xmlns=\"http://www.w3.org/2000/svg\" height=\"24px\"viewBox=\"0 0 24 24\"\n",
              "       width=\"24px\">\n",
              "    <path d=\"M0 0h24v24H0V0z\" fill=\"none\"/>\n",
              "    <path d=\"M18.56 5.44l.94 2.06.94-2.06 2.06-.94-2.06-.94-.94-2.06-.94 2.06-2.06.94zm-11 1L8.5 8.5l.94-2.06 2.06-.94-2.06-.94L8.5 2.5l-.94 2.06-2.06.94zm10 10l.94 2.06.94-2.06 2.06-.94-2.06-.94-.94-2.06-.94 2.06-2.06.94z\"/><path d=\"M17.41 7.96l-1.37-1.37c-.4-.4-.92-.59-1.43-.59-.52 0-1.04.2-1.43.59L10.3 9.45l-7.72 7.72c-.78.78-.78 2.05 0 2.83L4 21.41c.39.39.9.59 1.41.59.51 0 1.02-.2 1.41-.59l7.78-7.78 2.81-2.81c.8-.78.8-2.07 0-2.86zM5.41 20L4 18.59l7.72-7.72 1.47 1.35L5.41 20z\"/>\n",
              "  </svg>\n",
              "      </button>\n",
              "      \n",
              "  <style>\n",
              "    .colab-df-container {\n",
              "      display:flex;\n",
              "      flex-wrap:wrap;\n",
              "      gap: 12px;\n",
              "    }\n",
              "\n",
              "    .colab-df-convert {\n",
              "      background-color: #E8F0FE;\n",
              "      border: none;\n",
              "      border-radius: 50%;\n",
              "      cursor: pointer;\n",
              "      display: none;\n",
              "      fill: #1967D2;\n",
              "      height: 32px;\n",
              "      padding: 0 0 0 0;\n",
              "      width: 32px;\n",
              "    }\n",
              "\n",
              "    .colab-df-convert:hover {\n",
              "      background-color: #E2EBFA;\n",
              "      box-shadow: 0px 1px 2px rgba(60, 64, 67, 0.3), 0px 1px 3px 1px rgba(60, 64, 67, 0.15);\n",
              "      fill: #174EA6;\n",
              "    }\n",
              "\n",
              "    [theme=dark] .colab-df-convert {\n",
              "      background-color: #3B4455;\n",
              "      fill: #D2E3FC;\n",
              "    }\n",
              "\n",
              "    [theme=dark] .colab-df-convert:hover {\n",
              "      background-color: #434B5C;\n",
              "      box-shadow: 0px 1px 3px 1px rgba(0, 0, 0, 0.15);\n",
              "      filter: drop-shadow(0px 1px 2px rgba(0, 0, 0, 0.3));\n",
              "      fill: #FFFFFF;\n",
              "    }\n",
              "  </style>\n",
              "\n",
              "      <script>\n",
              "        const buttonEl =\n",
              "          document.querySelector('#df-33259f93-5f17-4f0a-aa96-d7ff660708f7 button.colab-df-convert');\n",
              "        buttonEl.style.display =\n",
              "          google.colab.kernel.accessAllowed ? 'block' : 'none';\n",
              "\n",
              "        async function convertToInteractive(key) {\n",
              "          const element = document.querySelector('#df-33259f93-5f17-4f0a-aa96-d7ff660708f7');\n",
              "          const dataTable =\n",
              "            await google.colab.kernel.invokeFunction('convertToInteractive',\n",
              "                                                     [key], {});\n",
              "          if (!dataTable) return;\n",
              "\n",
              "          const docLinkHtml = 'Like what you see? Visit the ' +\n",
              "            '<a target=\"_blank\" href=https://colab.research.google.com/notebooks/data_table.ipynb>data table notebook</a>'\n",
              "            + ' to learn more about interactive tables.';\n",
              "          element.innerHTML = '';\n",
              "          dataTable['output_type'] = 'display_data';\n",
              "          await google.colab.output.renderOutput(dataTable, element);\n",
              "          const docLink = document.createElement('div');\n",
              "          docLink.innerHTML = docLinkHtml;\n",
              "          element.appendChild(docLink);\n",
              "        }\n",
              "      </script>\n",
              "    </div>\n",
              "  </div>\n",
              "  "
            ]
          },
          "metadata": {},
          "execution_count": 29
        }
      ]
    },
    {
      "cell_type": "code",
      "source": [
        "test_df.shape\n"
      ],
      "metadata": {
        "colab": {
          "base_uri": "https://localhost:8080/"
        },
        "id": "xGkTvwO3tBVb",
        "outputId": "87d51d04-e16d-4e8b-9442-fedb9bf1c916"
      },
      "execution_count": null,
      "outputs": [
        {
          "output_type": "execute_result",
          "data": {
            "text/plain": [
              "(416, 25)"
            ]
          },
          "metadata": {},
          "execution_count": 30
        }
      ]
    },
    {
      "cell_type": "code",
      "source": [
        "#test data info\n",
        "test_df.info()"
      ],
      "metadata": {
        "colab": {
          "base_uri": "https://localhost:8080/"
        },
        "id": "RXp8C6bvCMbz",
        "outputId": "e907a013-0063-4a69-9f6d-211c988a36a4"
      },
      "execution_count": null,
      "outputs": [
        {
          "output_type": "stream",
          "name": "stdout",
          "text": [
            "<class 'pandas.core.frame.DataFrame'>\n",
            "RangeIndex: 416 entries, 0 to 415\n",
            "Data columns (total 25 columns):\n",
            " #   Column                                 Non-Null Count  Dtype  \n",
            "---  ------                                 --------------  -----  \n",
            " 0   city                                   416 non-null    object \n",
            " 1   year                                   416 non-null    int64  \n",
            " 2   weekofyear                             416 non-null    int64  \n",
            " 3   month                                  416 non-null    int64  \n",
            " 4   week_start_date                        416 non-null    object \n",
            " 5   ndvi_ne                                373 non-null    float64\n",
            " 6   ndvi_nw                                405 non-null    float64\n",
            " 7   ndvi_se                                415 non-null    float64\n",
            " 8   ndvi_sw                                415 non-null    float64\n",
            " 9   precipitation_amt_mm                   414 non-null    float64\n",
            " 10  reanalysis_air_temp_k                  414 non-null    float64\n",
            " 11  reanalysis_avg_temp_k                  414 non-null    float64\n",
            " 12  reanalysis_dew_point_temp_k            414 non-null    float64\n",
            " 13  reanalysis_max_air_temp_k              414 non-null    float64\n",
            " 14  reanalysis_min_air_temp_k              414 non-null    float64\n",
            " 15  reanalysis_precip_amt_kg_per_m2        414 non-null    float64\n",
            " 16  reanalysis_relative_humidity_percent   414 non-null    float64\n",
            " 17  reanalysis_sat_precip_amt_mm           414 non-null    float64\n",
            " 18  reanalysis_specific_humidity_g_per_kg  414 non-null    float64\n",
            " 19  reanalysis_tdtr_k                      414 non-null    float64\n",
            " 20  station_avg_temp_c                     404 non-null    float64\n",
            " 21  station_diur_temp_rng_c                404 non-null    float64\n",
            " 22  station_max_temp_c                     413 non-null    float64\n",
            " 23  station_min_temp_c                     407 non-null    float64\n",
            " 24  station_precip_mm                      411 non-null    float64\n",
            "dtypes: float64(20), int64(3), object(2)\n",
            "memory usage: 81.4+ KB\n"
          ]
        }
      ]
    },
    {
      "cell_type": "code",
      "source": [
        "#train data info\n",
        "df.describe()"
      ],
      "metadata": {
        "colab": {
          "base_uri": "https://localhost:8080/",
          "height": 394
        },
        "id": "8wY6VBMIuVCE",
        "outputId": "81232e08-e8a4-4b97-cb0c-877414c66bb2"
      },
      "execution_count": null,
      "outputs": [
        {
          "output_type": "execute_result",
          "data": {
            "text/plain": [
              "              year   weekofyear        month      ndvi_ne      ndvi_nw  \\\n",
              "count  1456.000000  1456.000000  1456.000000  1262.000000  1404.000000   \n",
              "mean   2001.031593    26.503434     6.418269     0.142294     0.130553   \n",
              "std       5.408314    15.019437     3.451806     0.140531     0.119999   \n",
              "min    1990.000000     1.000000     1.000000    -0.406250    -0.456100   \n",
              "25%    1997.000000    13.750000     3.750000     0.044950     0.049217   \n",
              "50%    2002.000000    26.500000     6.500000     0.128817     0.121429   \n",
              "75%    2005.000000    39.250000     9.000000     0.248483     0.216600   \n",
              "max    2010.000000    53.000000    12.000000     0.508357     0.454429   \n",
              "\n",
              "           ndvi_se      ndvi_sw  precipitation_amt_mm  reanalysis_air_temp_k  \\\n",
              "count  1434.000000  1434.000000           1443.000000            1446.000000   \n",
              "mean      0.203783     0.202305             45.760388             298.701852   \n",
              "std       0.073860     0.083903             43.715537               1.362420   \n",
              "min      -0.015533    -0.063457              0.000000             294.635714   \n",
              "25%       0.155087     0.144209              9.800000             297.658929   \n",
              "50%       0.196050     0.189450             38.340000             298.646429   \n",
              "75%       0.248846     0.246982             70.235000             299.833571   \n",
              "max       0.538314     0.546017            390.600000             302.200000   \n",
              "\n",
              "       reanalysis_avg_temp_k  ...  reanalysis_relative_humidity_percent  \\\n",
              "count            1446.000000  ...                           1446.000000   \n",
              "mean              299.225578  ...                             82.161959   \n",
              "std                 1.261715  ...                              7.153897   \n",
              "min               294.892857  ...                             57.787143   \n",
              "25%               298.257143  ...                             77.177143   \n",
              "50%               299.289286  ...                             80.301429   \n",
              "75%               300.207143  ...                             86.357857   \n",
              "max               302.928571  ...                             98.610000   \n",
              "\n",
              "       reanalysis_sat_precip_amt_mm  reanalysis_specific_humidity_g_per_kg  \\\n",
              "count                   1443.000000                            1446.000000   \n",
              "mean                      45.760388                              16.746427   \n",
              "std                       43.715537                               1.542494   \n",
              "min                        0.000000                              11.715714   \n",
              "25%                        9.800000                              15.557143   \n",
              "50%                       38.340000                              17.087143   \n",
              "75%                       70.235000                              17.978214   \n",
              "max                      390.600000                              20.461429   \n",
              "\n",
              "       reanalysis_tdtr_k  station_avg_temp_c  station_diur_temp_rng_c  \\\n",
              "count        1446.000000         1413.000000              1413.000000   \n",
              "mean            4.903754           27.185783                 8.059328   \n",
              "std             3.546445            1.292347                 2.128568   \n",
              "min             1.357143           21.400000                 4.528571   \n",
              "25%             2.328571           26.300000                 6.514286   \n",
              "50%             2.857143           27.414286                 7.300000   \n",
              "75%             7.625000           28.157143                 9.566667   \n",
              "max            16.028571           30.800000                15.800000   \n",
              "\n",
              "       station_max_temp_c  station_min_temp_c  station_precip_mm  total_cases  \n",
              "count         1436.000000         1442.000000        1434.000000  1456.000000  \n",
              "mean            32.452437           22.102150          39.326360    24.675137  \n",
              "std              1.959318            1.574066          47.455314    43.596000  \n",
              "min             26.700000           14.700000           0.000000     0.000000  \n",
              "25%             31.100000           21.100000           8.700000     5.000000  \n",
              "50%             32.800000           22.200000          23.850000    12.000000  \n",
              "75%             33.900000           23.300000          53.900000    28.000000  \n",
              "max             42.200000           25.600000         543.300000   461.000000  \n",
              "\n",
              "[8 rows x 24 columns]"
            ],
            "text/html": [
              "\n",
              "  <div id=\"df-99a1428d-deb1-42ca-96e2-7b92d4b1dc75\">\n",
              "    <div class=\"colab-df-container\">\n",
              "      <div>\n",
              "<style scoped>\n",
              "    .dataframe tbody tr th:only-of-type {\n",
              "        vertical-align: middle;\n",
              "    }\n",
              "\n",
              "    .dataframe tbody tr th {\n",
              "        vertical-align: top;\n",
              "    }\n",
              "\n",
              "    .dataframe thead th {\n",
              "        text-align: right;\n",
              "    }\n",
              "</style>\n",
              "<table border=\"1\" class=\"dataframe\">\n",
              "  <thead>\n",
              "    <tr style=\"text-align: right;\">\n",
              "      <th></th>\n",
              "      <th>year</th>\n",
              "      <th>weekofyear</th>\n",
              "      <th>month</th>\n",
              "      <th>ndvi_ne</th>\n",
              "      <th>ndvi_nw</th>\n",
              "      <th>ndvi_se</th>\n",
              "      <th>ndvi_sw</th>\n",
              "      <th>precipitation_amt_mm</th>\n",
              "      <th>reanalysis_air_temp_k</th>\n",
              "      <th>reanalysis_avg_temp_k</th>\n",
              "      <th>...</th>\n",
              "      <th>reanalysis_relative_humidity_percent</th>\n",
              "      <th>reanalysis_sat_precip_amt_mm</th>\n",
              "      <th>reanalysis_specific_humidity_g_per_kg</th>\n",
              "      <th>reanalysis_tdtr_k</th>\n",
              "      <th>station_avg_temp_c</th>\n",
              "      <th>station_diur_temp_rng_c</th>\n",
              "      <th>station_max_temp_c</th>\n",
              "      <th>station_min_temp_c</th>\n",
              "      <th>station_precip_mm</th>\n",
              "      <th>total_cases</th>\n",
              "    </tr>\n",
              "  </thead>\n",
              "  <tbody>\n",
              "    <tr>\n",
              "      <th>count</th>\n",
              "      <td>1456.000000</td>\n",
              "      <td>1456.000000</td>\n",
              "      <td>1456.000000</td>\n",
              "      <td>1262.000000</td>\n",
              "      <td>1404.000000</td>\n",
              "      <td>1434.000000</td>\n",
              "      <td>1434.000000</td>\n",
              "      <td>1443.000000</td>\n",
              "      <td>1446.000000</td>\n",
              "      <td>1446.000000</td>\n",
              "      <td>...</td>\n",
              "      <td>1446.000000</td>\n",
              "      <td>1443.000000</td>\n",
              "      <td>1446.000000</td>\n",
              "      <td>1446.000000</td>\n",
              "      <td>1413.000000</td>\n",
              "      <td>1413.000000</td>\n",
              "      <td>1436.000000</td>\n",
              "      <td>1442.000000</td>\n",
              "      <td>1434.000000</td>\n",
              "      <td>1456.000000</td>\n",
              "    </tr>\n",
              "    <tr>\n",
              "      <th>mean</th>\n",
              "      <td>2001.031593</td>\n",
              "      <td>26.503434</td>\n",
              "      <td>6.418269</td>\n",
              "      <td>0.142294</td>\n",
              "      <td>0.130553</td>\n",
              "      <td>0.203783</td>\n",
              "      <td>0.202305</td>\n",
              "      <td>45.760388</td>\n",
              "      <td>298.701852</td>\n",
              "      <td>299.225578</td>\n",
              "      <td>...</td>\n",
              "      <td>82.161959</td>\n",
              "      <td>45.760388</td>\n",
              "      <td>16.746427</td>\n",
              "      <td>4.903754</td>\n",
              "      <td>27.185783</td>\n",
              "      <td>8.059328</td>\n",
              "      <td>32.452437</td>\n",
              "      <td>22.102150</td>\n",
              "      <td>39.326360</td>\n",
              "      <td>24.675137</td>\n",
              "    </tr>\n",
              "    <tr>\n",
              "      <th>std</th>\n",
              "      <td>5.408314</td>\n",
              "      <td>15.019437</td>\n",
              "      <td>3.451806</td>\n",
              "      <td>0.140531</td>\n",
              "      <td>0.119999</td>\n",
              "      <td>0.073860</td>\n",
              "      <td>0.083903</td>\n",
              "      <td>43.715537</td>\n",
              "      <td>1.362420</td>\n",
              "      <td>1.261715</td>\n",
              "      <td>...</td>\n",
              "      <td>7.153897</td>\n",
              "      <td>43.715537</td>\n",
              "      <td>1.542494</td>\n",
              "      <td>3.546445</td>\n",
              "      <td>1.292347</td>\n",
              "      <td>2.128568</td>\n",
              "      <td>1.959318</td>\n",
              "      <td>1.574066</td>\n",
              "      <td>47.455314</td>\n",
              "      <td>43.596000</td>\n",
              "    </tr>\n",
              "    <tr>\n",
              "      <th>min</th>\n",
              "      <td>1990.000000</td>\n",
              "      <td>1.000000</td>\n",
              "      <td>1.000000</td>\n",
              "      <td>-0.406250</td>\n",
              "      <td>-0.456100</td>\n",
              "      <td>-0.015533</td>\n",
              "      <td>-0.063457</td>\n",
              "      <td>0.000000</td>\n",
              "      <td>294.635714</td>\n",
              "      <td>294.892857</td>\n",
              "      <td>...</td>\n",
              "      <td>57.787143</td>\n",
              "      <td>0.000000</td>\n",
              "      <td>11.715714</td>\n",
              "      <td>1.357143</td>\n",
              "      <td>21.400000</td>\n",
              "      <td>4.528571</td>\n",
              "      <td>26.700000</td>\n",
              "      <td>14.700000</td>\n",
              "      <td>0.000000</td>\n",
              "      <td>0.000000</td>\n",
              "    </tr>\n",
              "    <tr>\n",
              "      <th>25%</th>\n",
              "      <td>1997.000000</td>\n",
              "      <td>13.750000</td>\n",
              "      <td>3.750000</td>\n",
              "      <td>0.044950</td>\n",
              "      <td>0.049217</td>\n",
              "      <td>0.155087</td>\n",
              "      <td>0.144209</td>\n",
              "      <td>9.800000</td>\n",
              "      <td>297.658929</td>\n",
              "      <td>298.257143</td>\n",
              "      <td>...</td>\n",
              "      <td>77.177143</td>\n",
              "      <td>9.800000</td>\n",
              "      <td>15.557143</td>\n",
              "      <td>2.328571</td>\n",
              "      <td>26.300000</td>\n",
              "      <td>6.514286</td>\n",
              "      <td>31.100000</td>\n",
              "      <td>21.100000</td>\n",
              "      <td>8.700000</td>\n",
              "      <td>5.000000</td>\n",
              "    </tr>\n",
              "    <tr>\n",
              "      <th>50%</th>\n",
              "      <td>2002.000000</td>\n",
              "      <td>26.500000</td>\n",
              "      <td>6.500000</td>\n",
              "      <td>0.128817</td>\n",
              "      <td>0.121429</td>\n",
              "      <td>0.196050</td>\n",
              "      <td>0.189450</td>\n",
              "      <td>38.340000</td>\n",
              "      <td>298.646429</td>\n",
              "      <td>299.289286</td>\n",
              "      <td>...</td>\n",
              "      <td>80.301429</td>\n",
              "      <td>38.340000</td>\n",
              "      <td>17.087143</td>\n",
              "      <td>2.857143</td>\n",
              "      <td>27.414286</td>\n",
              "      <td>7.300000</td>\n",
              "      <td>32.800000</td>\n",
              "      <td>22.200000</td>\n",
              "      <td>23.850000</td>\n",
              "      <td>12.000000</td>\n",
              "    </tr>\n",
              "    <tr>\n",
              "      <th>75%</th>\n",
              "      <td>2005.000000</td>\n",
              "      <td>39.250000</td>\n",
              "      <td>9.000000</td>\n",
              "      <td>0.248483</td>\n",
              "      <td>0.216600</td>\n",
              "      <td>0.248846</td>\n",
              "      <td>0.246982</td>\n",
              "      <td>70.235000</td>\n",
              "      <td>299.833571</td>\n",
              "      <td>300.207143</td>\n",
              "      <td>...</td>\n",
              "      <td>86.357857</td>\n",
              "      <td>70.235000</td>\n",
              "      <td>17.978214</td>\n",
              "      <td>7.625000</td>\n",
              "      <td>28.157143</td>\n",
              "      <td>9.566667</td>\n",
              "      <td>33.900000</td>\n",
              "      <td>23.300000</td>\n",
              "      <td>53.900000</td>\n",
              "      <td>28.000000</td>\n",
              "    </tr>\n",
              "    <tr>\n",
              "      <th>max</th>\n",
              "      <td>2010.000000</td>\n",
              "      <td>53.000000</td>\n",
              "      <td>12.000000</td>\n",
              "      <td>0.508357</td>\n",
              "      <td>0.454429</td>\n",
              "      <td>0.538314</td>\n",
              "      <td>0.546017</td>\n",
              "      <td>390.600000</td>\n",
              "      <td>302.200000</td>\n",
              "      <td>302.928571</td>\n",
              "      <td>...</td>\n",
              "      <td>98.610000</td>\n",
              "      <td>390.600000</td>\n",
              "      <td>20.461429</td>\n",
              "      <td>16.028571</td>\n",
              "      <td>30.800000</td>\n",
              "      <td>15.800000</td>\n",
              "      <td>42.200000</td>\n",
              "      <td>25.600000</td>\n",
              "      <td>543.300000</td>\n",
              "      <td>461.000000</td>\n",
              "    </tr>\n",
              "  </tbody>\n",
              "</table>\n",
              "<p>8 rows × 24 columns</p>\n",
              "</div>\n",
              "      <button class=\"colab-df-convert\" onclick=\"convertToInteractive('df-99a1428d-deb1-42ca-96e2-7b92d4b1dc75')\"\n",
              "              title=\"Convert this dataframe to an interactive table.\"\n",
              "              style=\"display:none;\">\n",
              "        \n",
              "  <svg xmlns=\"http://www.w3.org/2000/svg\" height=\"24px\"viewBox=\"0 0 24 24\"\n",
              "       width=\"24px\">\n",
              "    <path d=\"M0 0h24v24H0V0z\" fill=\"none\"/>\n",
              "    <path d=\"M18.56 5.44l.94 2.06.94-2.06 2.06-.94-2.06-.94-.94-2.06-.94 2.06-2.06.94zm-11 1L8.5 8.5l.94-2.06 2.06-.94-2.06-.94L8.5 2.5l-.94 2.06-2.06.94zm10 10l.94 2.06.94-2.06 2.06-.94-2.06-.94-.94-2.06-.94 2.06-2.06.94z\"/><path d=\"M17.41 7.96l-1.37-1.37c-.4-.4-.92-.59-1.43-.59-.52 0-1.04.2-1.43.59L10.3 9.45l-7.72 7.72c-.78.78-.78 2.05 0 2.83L4 21.41c.39.39.9.59 1.41.59.51 0 1.02-.2 1.41-.59l7.78-7.78 2.81-2.81c.8-.78.8-2.07 0-2.86zM5.41 20L4 18.59l7.72-7.72 1.47 1.35L5.41 20z\"/>\n",
              "  </svg>\n",
              "      </button>\n",
              "      \n",
              "  <style>\n",
              "    .colab-df-container {\n",
              "      display:flex;\n",
              "      flex-wrap:wrap;\n",
              "      gap: 12px;\n",
              "    }\n",
              "\n",
              "    .colab-df-convert {\n",
              "      background-color: #E8F0FE;\n",
              "      border: none;\n",
              "      border-radius: 50%;\n",
              "      cursor: pointer;\n",
              "      display: none;\n",
              "      fill: #1967D2;\n",
              "      height: 32px;\n",
              "      padding: 0 0 0 0;\n",
              "      width: 32px;\n",
              "    }\n",
              "\n",
              "    .colab-df-convert:hover {\n",
              "      background-color: #E2EBFA;\n",
              "      box-shadow: 0px 1px 2px rgba(60, 64, 67, 0.3), 0px 1px 3px 1px rgba(60, 64, 67, 0.15);\n",
              "      fill: #174EA6;\n",
              "    }\n",
              "\n",
              "    [theme=dark] .colab-df-convert {\n",
              "      background-color: #3B4455;\n",
              "      fill: #D2E3FC;\n",
              "    }\n",
              "\n",
              "    [theme=dark] .colab-df-convert:hover {\n",
              "      background-color: #434B5C;\n",
              "      box-shadow: 0px 1px 3px 1px rgba(0, 0, 0, 0.15);\n",
              "      filter: drop-shadow(0px 1px 2px rgba(0, 0, 0, 0.3));\n",
              "      fill: #FFFFFF;\n",
              "    }\n",
              "  </style>\n",
              "\n",
              "      <script>\n",
              "        const buttonEl =\n",
              "          document.querySelector('#df-99a1428d-deb1-42ca-96e2-7b92d4b1dc75 button.colab-df-convert');\n",
              "        buttonEl.style.display =\n",
              "          google.colab.kernel.accessAllowed ? 'block' : 'none';\n",
              "\n",
              "        async function convertToInteractive(key) {\n",
              "          const element = document.querySelector('#df-99a1428d-deb1-42ca-96e2-7b92d4b1dc75');\n",
              "          const dataTable =\n",
              "            await google.colab.kernel.invokeFunction('convertToInteractive',\n",
              "                                                     [key], {});\n",
              "          if (!dataTable) return;\n",
              "\n",
              "          const docLinkHtml = 'Like what you see? Visit the ' +\n",
              "            '<a target=\"_blank\" href=https://colab.research.google.com/notebooks/data_table.ipynb>data table notebook</a>'\n",
              "            + ' to learn more about interactive tables.';\n",
              "          element.innerHTML = '';\n",
              "          dataTable['output_type'] = 'display_data';\n",
              "          await google.colab.output.renderOutput(dataTable, element);\n",
              "          const docLink = document.createElement('div');\n",
              "          docLink.innerHTML = docLinkHtml;\n",
              "          element.appendChild(docLink);\n",
              "        }\n",
              "      </script>\n",
              "    </div>\n",
              "  </div>\n",
              "  "
            ]
          },
          "metadata": {},
          "execution_count": 32
        }
      ]
    },
    {
      "cell_type": "code",
      "source": [
        "df.isnull().sum()"
      ],
      "metadata": {
        "colab": {
          "base_uri": "https://localhost:8080/"
        },
        "id": "Fsd3KJNlugFm",
        "outputId": "ef45c1ff-d6a9-41e9-cae3-d857ffad5a4b"
      },
      "execution_count": null,
      "outputs": [
        {
          "output_type": "execute_result",
          "data": {
            "text/plain": [
              "city                                       0\n",
              "year                                       0\n",
              "weekofyear                                 0\n",
              "month                                      0\n",
              "week_start_date                            0\n",
              "ndvi_ne                                  194\n",
              "ndvi_nw                                   52\n",
              "ndvi_se                                   22\n",
              "ndvi_sw                                   22\n",
              "precipitation_amt_mm                      13\n",
              "reanalysis_air_temp_k                     10\n",
              "reanalysis_avg_temp_k                     10\n",
              "reanalysis_dew_point_temp_k               10\n",
              "reanalysis_max_air_temp_k                 10\n",
              "reanalysis_min_air_temp_k                 10\n",
              "reanalysis_precip_amt_kg_per_m2           10\n",
              "reanalysis_relative_humidity_percent      10\n",
              "reanalysis_sat_precip_amt_mm              13\n",
              "reanalysis_specific_humidity_g_per_kg     10\n",
              "reanalysis_tdtr_k                         10\n",
              "station_avg_temp_c                        43\n",
              "station_diur_temp_rng_c                   43\n",
              "station_max_temp_c                        20\n",
              "station_min_temp_c                        14\n",
              "station_precip_mm                         22\n",
              "total_cases                                0\n",
              "dtype: int64"
            ]
          },
          "metadata": {},
          "execution_count": 33
        }
      ]
    },
    {
      "cell_type": "code",
      "source": [
        "df.drop(['week_start_date'], inplace=True, axis=1)\n",
        "test_df.drop(['week_start_date'], inplace=True, axis=1)"
      ],
      "metadata": {
        "id": "WXSPSvuuu_nP"
      },
      "execution_count": null,
      "outputs": []
    },
    {
      "cell_type": "code",
      "source": [
        "df.isnull().sum()"
      ],
      "metadata": {
        "colab": {
          "base_uri": "https://localhost:8080/"
        },
        "id": "85BGEBR_vPrr",
        "outputId": "253d2240-3d8a-4a9b-af6c-d560c4cf9dce"
      },
      "execution_count": null,
      "outputs": [
        {
          "output_type": "execute_result",
          "data": {
            "text/plain": [
              "city                                       0\n",
              "year                                       0\n",
              "weekofyear                                 0\n",
              "month                                      0\n",
              "ndvi_ne                                  194\n",
              "ndvi_nw                                   52\n",
              "ndvi_se                                   22\n",
              "ndvi_sw                                   22\n",
              "precipitation_amt_mm                      13\n",
              "reanalysis_air_temp_k                     10\n",
              "reanalysis_avg_temp_k                     10\n",
              "reanalysis_dew_point_temp_k               10\n",
              "reanalysis_max_air_temp_k                 10\n",
              "reanalysis_min_air_temp_k                 10\n",
              "reanalysis_precip_amt_kg_per_m2           10\n",
              "reanalysis_relative_humidity_percent      10\n",
              "reanalysis_sat_precip_amt_mm              13\n",
              "reanalysis_specific_humidity_g_per_kg     10\n",
              "reanalysis_tdtr_k                         10\n",
              "station_avg_temp_c                        43\n",
              "station_diur_temp_rng_c                   43\n",
              "station_max_temp_c                        20\n",
              "station_min_temp_c                        14\n",
              "station_precip_mm                         22\n",
              "total_cases                                0\n",
              "dtype: int64"
            ]
          },
          "metadata": {},
          "execution_count": 35
        }
      ]
    },
    {
      "cell_type": "code",
      "source": [
        "df.fillna(method='ffill', inplace=True)\n",
        "test_df.fillna(method='ffill', inplace=True)\n",
        "df.isnull().sum()"
      ],
      "metadata": {
        "id": "qaI88sF8vZO2",
        "colab": {
          "base_uri": "https://localhost:8080/"
        },
        "outputId": "cc3e80b7-915e-43ff-fb7c-81bf1542f3e1"
      },
      "execution_count": null,
      "outputs": [
        {
          "output_type": "execute_result",
          "data": {
            "text/plain": [
              "city                                     0\n",
              "year                                     0\n",
              "weekofyear                               0\n",
              "month                                    0\n",
              "ndvi_ne                                  0\n",
              "ndvi_nw                                  0\n",
              "ndvi_se                                  0\n",
              "ndvi_sw                                  0\n",
              "precipitation_amt_mm                     0\n",
              "reanalysis_air_temp_k                    0\n",
              "reanalysis_avg_temp_k                    0\n",
              "reanalysis_dew_point_temp_k              0\n",
              "reanalysis_max_air_temp_k                0\n",
              "reanalysis_min_air_temp_k                0\n",
              "reanalysis_precip_amt_kg_per_m2          0\n",
              "reanalysis_relative_humidity_percent     0\n",
              "reanalysis_sat_precip_amt_mm             0\n",
              "reanalysis_specific_humidity_g_per_kg    0\n",
              "reanalysis_tdtr_k                        0\n",
              "station_avg_temp_c                       0\n",
              "station_diur_temp_rng_c                  0\n",
              "station_max_temp_c                       0\n",
              "station_min_temp_c                       0\n",
              "station_precip_mm                        0\n",
              "total_cases                              0\n",
              "dtype: int64"
            ]
          },
          "metadata": {},
          "execution_count": 36
        }
      ]
    },
    {
      "cell_type": "code",
      "source": [
        "df.info()"
      ],
      "metadata": {
        "id": "Vl7Mgf7cvffM",
        "colab": {
          "base_uri": "https://localhost:8080/"
        },
        "outputId": "c71599ac-9773-4819-817e-caa8fdee4489"
      },
      "execution_count": null,
      "outputs": [
        {
          "output_type": "stream",
          "name": "stdout",
          "text": [
            "<class 'pandas.core.frame.DataFrame'>\n",
            "RangeIndex: 1456 entries, 0 to 1455\n",
            "Data columns (total 25 columns):\n",
            " #   Column                                 Non-Null Count  Dtype  \n",
            "---  ------                                 --------------  -----  \n",
            " 0   city                                   1456 non-null   object \n",
            " 1   year                                   1456 non-null   int64  \n",
            " 2   weekofyear                             1456 non-null   int64  \n",
            " 3   month                                  1456 non-null   int64  \n",
            " 4   ndvi_ne                                1456 non-null   float64\n",
            " 5   ndvi_nw                                1456 non-null   float64\n",
            " 6   ndvi_se                                1456 non-null   float64\n",
            " 7   ndvi_sw                                1456 non-null   float64\n",
            " 8   precipitation_amt_mm                   1456 non-null   float64\n",
            " 9   reanalysis_air_temp_k                  1456 non-null   float64\n",
            " 10  reanalysis_avg_temp_k                  1456 non-null   float64\n",
            " 11  reanalysis_dew_point_temp_k            1456 non-null   float64\n",
            " 12  reanalysis_max_air_temp_k              1456 non-null   float64\n",
            " 13  reanalysis_min_air_temp_k              1456 non-null   float64\n",
            " 14  reanalysis_precip_amt_kg_per_m2        1456 non-null   float64\n",
            " 15  reanalysis_relative_humidity_percent   1456 non-null   float64\n",
            " 16  reanalysis_sat_precip_amt_mm           1456 non-null   float64\n",
            " 17  reanalysis_specific_humidity_g_per_kg  1456 non-null   float64\n",
            " 18  reanalysis_tdtr_k                      1456 non-null   float64\n",
            " 19  station_avg_temp_c                     1456 non-null   float64\n",
            " 20  station_diur_temp_rng_c                1456 non-null   float64\n",
            " 21  station_max_temp_c                     1456 non-null   float64\n",
            " 22  station_min_temp_c                     1456 non-null   float64\n",
            " 23  station_precip_mm                      1456 non-null   float64\n",
            " 24  total_cases                            1456 non-null   int64  \n",
            "dtypes: float64(20), int64(4), object(1)\n",
            "memory usage: 284.5+ KB\n"
          ]
        }
      ]
    },
    {
      "cell_type": "code",
      "source": [
        "df['city'] = df['city'].astype('str')\n",
        "test_df['city'] = test_df['city'].astype('str')"
      ],
      "metadata": {
        "id": "NI2zC33e2Xmw"
      },
      "execution_count": null,
      "outputs": []
    },
    {
      "cell_type": "code",
      "source": [
        "#Assigning the sj to 0 and iq to 1 in train dataset\n",
        "temp = []\n",
        "for i in range(len(df['city'])):\n",
        "  if df['city'][i]=='sj':\n",
        "    temp.append(0)\n",
        "  else:\n",
        "    temp.append(1)\n",
        "df['city'] = temp\n",
        "#Assigning the sj to 0 and iq to 1 in test dataset\n",
        "temp = []\n",
        "for i in range(len(test_df['city'])):\n",
        "  if test_df['city'][i]=='sj':\n",
        "    temp.append(0)\n",
        "  else:\n",
        "    temp.append(1)\n",
        "test_df['city'] = temp"
      ],
      "metadata": {
        "id": "eokCKN2Xvp4F"
      },
      "execution_count": null,
      "outputs": []
    },
    {
      "cell_type": "code",
      "source": [
        "df.head()\n",
        "df['total_cases'].describe()"
      ],
      "metadata": {
        "colab": {
          "base_uri": "https://localhost:8080/"
        },
        "id": "4elCvNsQzxV3",
        "outputId": "47d1a718-4c32-41e7-817a-a95eb9e14c33"
      },
      "execution_count": null,
      "outputs": [
        {
          "output_type": "execute_result",
          "data": {
            "text/plain": [
              "count    1456.000000\n",
              "mean       24.675137\n",
              "std        43.596000\n",
              "min         0.000000\n",
              "25%         5.000000\n",
              "50%        12.000000\n",
              "75%        28.000000\n",
              "max       461.000000\n",
              "Name: total_cases, dtype: float64"
            ]
          },
          "metadata": {},
          "execution_count": 40
        }
      ]
    },
    {
      "cell_type": "code",
      "source": [
        "df.info()"
      ],
      "metadata": {
        "colab": {
          "base_uri": "https://localhost:8080/"
        },
        "id": "pAxctGAj1Ro1",
        "outputId": "ff00f601-9d3f-47ab-d9d8-de6364141732"
      },
      "execution_count": null,
      "outputs": [
        {
          "output_type": "stream",
          "name": "stdout",
          "text": [
            "<class 'pandas.core.frame.DataFrame'>\n",
            "RangeIndex: 1456 entries, 0 to 1455\n",
            "Data columns (total 25 columns):\n",
            " #   Column                                 Non-Null Count  Dtype  \n",
            "---  ------                                 --------------  -----  \n",
            " 0   city                                   1456 non-null   int64  \n",
            " 1   year                                   1456 non-null   int64  \n",
            " 2   weekofyear                             1456 non-null   int64  \n",
            " 3   month                                  1456 non-null   int64  \n",
            " 4   ndvi_ne                                1456 non-null   float64\n",
            " 5   ndvi_nw                                1456 non-null   float64\n",
            " 6   ndvi_se                                1456 non-null   float64\n",
            " 7   ndvi_sw                                1456 non-null   float64\n",
            " 8   precipitation_amt_mm                   1456 non-null   float64\n",
            " 9   reanalysis_air_temp_k                  1456 non-null   float64\n",
            " 10  reanalysis_avg_temp_k                  1456 non-null   float64\n",
            " 11  reanalysis_dew_point_temp_k            1456 non-null   float64\n",
            " 12  reanalysis_max_air_temp_k              1456 non-null   float64\n",
            " 13  reanalysis_min_air_temp_k              1456 non-null   float64\n",
            " 14  reanalysis_precip_amt_kg_per_m2        1456 non-null   float64\n",
            " 15  reanalysis_relative_humidity_percent   1456 non-null   float64\n",
            " 16  reanalysis_sat_precip_amt_mm           1456 non-null   float64\n",
            " 17  reanalysis_specific_humidity_g_per_kg  1456 non-null   float64\n",
            " 18  reanalysis_tdtr_k                      1456 non-null   float64\n",
            " 19  station_avg_temp_c                     1456 non-null   float64\n",
            " 20  station_diur_temp_rng_c                1456 non-null   float64\n",
            " 21  station_max_temp_c                     1456 non-null   float64\n",
            " 22  station_min_temp_c                     1456 non-null   float64\n",
            " 23  station_precip_mm                      1456 non-null   float64\n",
            " 24  total_cases                            1456 non-null   int64  \n",
            "dtypes: float64(20), int64(5)\n",
            "memory usage: 284.5 KB\n"
          ]
        }
      ]
    },
    {
      "cell_type": "code",
      "source": [
        "sns.heatmap(df.corr());"
      ],
      "metadata": {
        "colab": {
          "base_uri": "https://localhost:8080/",
          "height": 452
        },
        "id": "MTa0yeeOItL7",
        "outputId": "3a3d9ed6-45bb-453e-9cff-2232d7837f4d"
      },
      "execution_count": null,
      "outputs": [
        {
          "output_type": "display_data",
          "data": {
            "text/plain": [
              "<Figure size 432x288 with 2 Axes>"
            ],
            "image/png": "[encoded data removed]"
          },
          "metadata": {
            "needs_background": "light"
          }
        }
      ]
    },
    {
      "cell_type": "code",
      "source": [
        "plt.scatter(df['weekofyear'],df['total_cases'])\n",
        "plt.show()"
      ],
      "metadata": {
        "colab": {
          "base_uri": "https://localhost:8080/",
          "height": 265
        },
        "id": "GVb1PbuQJSqw",
        "outputId": "41ed4024-ee4b-49ef-804a-f030d4c8d817"
      },
      "execution_count": null,
      "outputs": [
        {
          "output_type": "display_data",
          "data": {
            "text/plain": [
              "<Figure size 432x288 with 1 Axes>"
            ],
            "image/png": "[encoded data removed]"
          },
          "metadata": {
            "needs_background": "light"
          }
        }
      ]
    },
    {
      "cell_type": "code",
      "source": [
        "plt.scatter(df['reanalysis_air_temp_k'],df['total_cases'])\n",
        "plt.show()"
      ],
      "metadata": {
        "colab": {
          "base_uri": "https://localhost:8080/",
          "height": 265
        },
        "id": "FcOmEvcjMR4M",
        "outputId": "84d9b898-85a4-4422-a040-b9e1683625f9"
      },
      "execution_count": null,
      "outputs": [
        {
          "output_type": "display_data",
          "data": {
            "text/plain": [
              "<Figure size 432x288 with 1 Axes>"
            ],
            "image/png": "[encoded data removed]"
          },
          "metadata": {
            "needs_background": "light"
          }
        }
      ]
    },
    {
      "cell_type": "code",
      "source": [
        "plt.scatter(df['reanalysis_min_air_temp_k'],df['total_cases'])\n",
        "plt.show()"
      ],
      "metadata": {
        "colab": {
          "base_uri": "https://localhost:8080/",
          "height": 265
        },
        "id": "Jbk4Z07tMdq7",
        "outputId": "1dd98c57-f6a7-4c91-a91b-6170146039dc"
      },
      "execution_count": null,
      "outputs": [
        {
          "output_type": "display_data",
          "data": {
            "text/plain": [
              "<Figure size 432x288 with 1 Axes>"
            ],
            "image/png": "[encoded data removed]"
          },
          "metadata": {
            "needs_background": "light"
          }
        }
      ]
    },
    {
      "cell_type": "code",
      "source": [
        "plt.hist(df['total_cases'],bins=100)\n",
        "plt.xlabel('Total Cases')\n",
        "plt.show()"
      ],
      "metadata": {
        "colab": {
          "base_uri": "https://localhost:8080/",
          "height": 279
        },
        "id": "dBiltv2iMowh",
        "outputId": "2c78cfe4-8196-4e3e-a2a4-76251fb67068"
      },
      "execution_count": null,
      "outputs": [
        {
          "output_type": "display_data",
          "data": {
            "text/plain": [
              "<Figure size 432x288 with 1 Axes>"
            ],
            "image/png": "[encoded data removed]"
          },
          "metadata": {
            "needs_background": "light"
          }
        }
      ]
    },
    {
      "cell_type": "code",
      "source": [
        "n = 0\n",
        "for i in range(len(df['total_cases'])):\n",
        "  if(df['total_cases'][i]==0):\n",
        "    n=n+1\n",
        "print(n)"
      ],
      "metadata": {
        "colab": {
          "base_uri": "https://localhost:8080/"
        },
        "id": "Zlix5ohoNnpG",
        "outputId": "e097f19d-b0be-40e8-bb11-a94fde6839b2"
      },
      "execution_count": null,
      "outputs": [
        {
          "output_type": "stream",
          "name": "stdout",
          "text": [
            "100\n"
          ]
        }
      ]
    },
    {
      "cell_type": "code",
      "source": [
        "sns.pairplot(data=df,\n",
        "                  y_vars=['total_cases'],\n",
        "                  x_vars=['year','weekofyear','month','ndvi_ne','ndvi_nw','ndvi_se','ndvi_sw']);"
      ],
      "metadata": {
        "colab": {
          "base_uri": "https://localhost:8080/",
          "height": 197
        },
        "id": "8phJ1RPGO8qw",
        "outputId": "13e95572-4843-4013-ff06-c83f0ba80b40"
      },
      "execution_count": null,
      "outputs": [
        {
          "output_type": "display_data",
          "data": {
            "text/plain": [
              "<Figure size 1260x180 with 7 Axes>"
            ],
            "image/png": "[encoded data removed]"
          },
          "metadata": {
            "needs_background": "light"
          }
        }
      ]
    },
    {
      "cell_type": "code",
      "source": [
        "sns.pairplot(data=df,\n",
        "                  y_vars=['total_cases'],\n",
        "                  x_vars=['precipitation_amt_mm','reanalysis_air_temp_k','reanalysis_avg_temp_k','reanalysis_dew_point_temp_k','reanalysis_max_air_temp_k']);"
      ],
      "metadata": {
        "colab": {
          "base_uri": "https://localhost:8080/",
          "height": 197
        },
        "id": "qYKGxxA6bXEJ",
        "outputId": "e2b24814-8d4a-41cb-e45d-1e8237d68c30"
      },
      "execution_count": null,
      "outputs": [
        {
          "output_type": "display_data",
          "data": {
            "text/plain": [
              "<Figure size 900x180 with 5 Axes>"
            ],
            "image/png": "[encoded data removed]"
          },
          "metadata": {
            "needs_background": "light"
          }
        }
      ]
    },
    {
      "cell_type": "code",
      "source": [
        "sns.pairplot(data=df,\n",
        "                  y_vars=['total_cases'],\n",
        "                  x_vars=[\n",
        "                          'reanalysis_min_air_temp_k','reanalysis_precip_amt_kg_per_m2','reanalysis_relative_humidity_percent'\n",
        "                          ,'reanalysis_sat_precip_amt_mm','reanalysis_specific_humidity_g_per_kg'  ]);"
      ],
      "metadata": {
        "colab": {
          "base_uri": "https://localhost:8080/",
          "height": 197
        },
        "id": "SAr5qrYQUSFw",
        "outputId": "de3edc99-ab7a-4f77-e9af-8779e98e877c"
      },
      "execution_count": null,
      "outputs": [
        {
          "output_type": "display_data",
          "data": {
            "text/plain": [
              "<Figure size 900x180 with 5 Axes>"
            ],
            "image/png": "[encoded data removed]"
          },
          "metadata": {
            "needs_background": "light"
          }
        }
      ]
    },
    {
      "cell_type": "code",
      "source": [
        "sns.pairplot(data=df,\n",
        "                  y_vars=['total_cases'],\n",
        "                  x_vars=['reanalysis_tdtr_k','station_avg_temp_c',\n",
        "                          'station_diur_temp_rng_c','station_max_temp_c','station_min_temp_c','station_precip_mm'   ]);"
      ],
      "metadata": {
        "colab": {
          "base_uri": "https://localhost:8080/",
          "height": 197
        },
        "id": "w-YEI1wsbiOu",
        "outputId": "10276ad4-246c-41b5-ad19-3e9320dc877d"
      },
      "execution_count": null,
      "outputs": [
        {
          "output_type": "display_data",
          "data": {
            "text/plain": [
              "<Figure size 1080x180 with 6 Axes>"
            ],
            "image/png": "[encoded data removed]"
          },
          "metadata": {
            "needs_background": "light"
          }
        }
      ]
    },
    {
      "cell_type": "code",
      "source": [
        "plt.boxplot(df['total_cases']);"
      ],
      "metadata": {
        "colab": {
          "base_uri": "https://localhost:8080/",
          "height": 265
        },
        "id": "BEnEKopYKpJk",
        "outputId": "8e59d0d6-1c63-4f5c-ba00-3e6f42bb6d79"
      },
      "execution_count": null,
      "outputs": [
        {
          "output_type": "display_data",
          "data": {
            "text/plain": [
              "<Figure size 432x288 with 1 Axes>"
            ],
            "image/png": "[encoded data removed]"
          },
          "metadata": {
            "needs_background": "light"
          }
        }
      ]
    },
    {
      "cell_type": "markdown",
      "source": [
        "There are a lot of outliers in the total cases. These are important for the government. But the perfomance metric is given as MAE for the competetion , we have to use that."
      ],
      "metadata": {
        "id": "6fatlB2aVMRc"
      }
    },
    {
      "cell_type": "code",
      "source": [
        "#transform the months\n",
        "for i in range(len(df['month'])):\n",
        "  if df['city'][i]==1:\n",
        "    if df['month'][i]<=4:\n",
        "      df['weekofyear'][i] = df['weekofyear'][i] + 36\n",
        "      df['month'][i]=df['month'][i]+8\n",
        "    else:\n",
        "      df['weekofyear'][i] = df['weekofyear'][i] - 16\n",
        "      df['month'][i]=df['month'][i]-4"
      ],
      "metadata": {
        "colab": {
          "base_uri": "https://localhost:8080/"
        },
        "id": "nd0Gmb8ark_Q",
        "outputId": "8bc6fa98-d822-493a-bc85-b6f076aab940"
      },
      "execution_count": null,
      "outputs": [
        {
          "output_type": "stream",
          "name": "stderr",
          "text": [
            "<ipython-input-53-3f3d20aea095>:8: SettingWithCopyWarning: \n",
            "A value is trying to be set on a copy of a slice from a DataFrame\n",
            "\n",
            "See the caveats in the documentation: https://pandas.pydata.org/pandas-docs/stable/user_guide/indexing.html#returning-a-view-versus-a-copy\n",
            "  df['weekofyear'][i] = df['weekofyear'][i] - 16\n",
            "<ipython-input-53-3f3d20aea095>:9: SettingWithCopyWarning: \n",
            "A value is trying to be set on a copy of a slice from a DataFrame\n",
            "\n",
            "See the caveats in the documentation: https://pandas.pydata.org/pandas-docs/stable/user_guide/indexing.html#returning-a-view-versus-a-copy\n",
            "  df['month'][i]=df['month'][i]-4\n",
            "<ipython-input-53-3f3d20aea095>:5: SettingWithCopyWarning: \n",
            "A value is trying to be set on a copy of a slice from a DataFrame\n",
            "\n",
            "See the caveats in the documentation: https://pandas.pydata.org/pandas-docs/stable/user_guide/indexing.html#returning-a-view-versus-a-copy\n",
            "  df['weekofyear'][i] = df['weekofyear'][i] + 36\n",
            "<ipython-input-53-3f3d20aea095>:6: SettingWithCopyWarning: \n",
            "A value is trying to be set on a copy of a slice from a DataFrame\n",
            "\n",
            "See the caveats in the documentation: https://pandas.pydata.org/pandas-docs/stable/user_guide/indexing.html#returning-a-view-versus-a-copy\n",
            "  df['month'][i]=df['month'][i]+8\n"
          ]
        }
      ]
    },
    {
      "cell_type": "code",
      "source": [
        "#transform the months\n",
        "for i in range(len(test_df['month'])):\n",
        "  if test_df['city'][i]==1:\n",
        "    if test_df['month'][i]<=4:\n",
        "      test_df['weekofyear'][i] = test_df['weekofyear'][i] + 36\n",
        "      test_df['month'][i]=test_df['month'][i]+8\n",
        "    else:\n",
        "      test_df['weekofyear'][i] = test_df['weekofyear'][i] - 16\n",
        "      test_df['month'][i]=test_df['month'][i]-4"
      ],
      "metadata": {
        "colab": {
          "base_uri": "https://localhost:8080/"
        },
        "id": "QXDZKv-3xyQ_",
        "outputId": "61d14d38-e0dd-41ab-e6f8-aa4d86d9a0ad"
      },
      "execution_count": null,
      "outputs": [
        {
          "output_type": "stream",
          "name": "stderr",
          "text": [
            "<ipython-input-54-c2225d97d14f>:8: SettingWithCopyWarning: \n",
            "A value is trying to be set on a copy of a slice from a DataFrame\n",
            "\n",
            "See the caveats in the documentation: https://pandas.pydata.org/pandas-docs/stable/user_guide/indexing.html#returning-a-view-versus-a-copy\n",
            "  test_df['weekofyear'][i] = test_df['weekofyear'][i] - 16\n",
            "<ipython-input-54-c2225d97d14f>:9: SettingWithCopyWarning: \n",
            "A value is trying to be set on a copy of a slice from a DataFrame\n",
            "\n",
            "See the caveats in the documentation: https://pandas.pydata.org/pandas-docs/stable/user_guide/indexing.html#returning-a-view-versus-a-copy\n",
            "  test_df['month'][i]=test_df['month'][i]-4\n",
            "<ipython-input-54-c2225d97d14f>:5: SettingWithCopyWarning: \n",
            "A value is trying to be set on a copy of a slice from a DataFrame\n",
            "\n",
            "See the caveats in the documentation: https://pandas.pydata.org/pandas-docs/stable/user_guide/indexing.html#returning-a-view-versus-a-copy\n",
            "  test_df['weekofyear'][i] = test_df['weekofyear'][i] + 36\n",
            "<ipython-input-54-c2225d97d14f>:6: SettingWithCopyWarning: \n",
            "A value is trying to be set on a copy of a slice from a DataFrame\n",
            "\n",
            "See the caveats in the documentation: https://pandas.pydata.org/pandas-docs/stable/user_guide/indexing.html#returning-a-view-versus-a-copy\n",
            "  test_df['month'][i]=test_df['month'][i]+8\n"
          ]
        }
      ]
    },
    {
      "cell_type": "code",
      "source": [
        "#convert all temperatures to Kelvin\n",
        "df['station_max_temp_c'] = df['station_max_temp_c']+273.15\n",
        "df['station_avg_temp_c'] = df['station_avg_temp_c']+273.15\n",
        "df['station_min_temp_c'] = df['station_min_temp_c']+273.15\n",
        "df['station_diur_temp_rng_c'] = df['station_diur_temp_rng_c']+273.15\n",
        "test_df['station_max_temp_c'] = test_df['station_max_temp_c']+273.15\n",
        "test_df['station_avg_temp_c'] = test_df['station_avg_temp_c']+273.15\n",
        "test_df['station_min_temp_c'] = test_df['station_min_temp_c']+273.15\n",
        "test_df['station_diur_temp_rng_c'] = test_df['station_diur_temp_rng_c']+273.15"
      ],
      "metadata": {
        "id": "ivX86Y69pKeQ"
      },
      "execution_count": null,
      "outputs": []
    },
    {
      "cell_type": "markdown",
      "source": [
        "# New features?\n"
      ],
      "metadata": {
        "id": "OKmR-9ND1TDh"
      }
    },
    {
      "cell_type": "code",
      "source": [
        "df['veg'] = (df['ndvi_ne']+df['ndvi_nw']+df['ndvi_se']+df['ndvi_sw'])/4"
      ],
      "metadata": {
        "id": "oNuGG1oZ1X-2"
      },
      "execution_count": null,
      "outputs": []
    },
    {
      "cell_type": "code",
      "source": [
        "test_df['veg'] = (test_df['ndvi_ne']+test_df['ndvi_nw']+test_df['ndvi_se']+test_df['ndvi_sw'])/4"
      ],
      "metadata": {
        "id": "t_-6T2mk11SL"
      },
      "execution_count": null,
      "outputs": []
    },
    {
      "cell_type": "code",
      "source": [
        "X = df[['city','year','weekofyear','month','ndvi_ne','ndvi_nw','ndvi_se','ndvi_sw','precipitation_amt_mm','reanalysis_air_temp_k',\n",
        "     'reanalysis_avg_temp_k','reanalysis_dew_point_temp_k','reanalysis_max_air_temp_k',\n",
        "     'reanalysis_min_air_temp_k','reanalysis_precip_amt_kg_per_m2','reanalysis_relative_humidity_percent'\n",
        "                          ,'reanalysis_sat_precip_amt_mm','reanalysis_specific_humidity_g_per_kg','reanalysis_tdtr_k','station_avg_temp_c',\n",
        "                          'station_diur_temp_rng_c','station_max_temp_c','station_min_temp_c','station_precip_mm','veg']]\n",
        "y = df['total_cases']"
      ],
      "metadata": {
        "id": "6Uacf-sVfJs6"
      },
      "execution_count": null,
      "outputs": []
    },
    {
      "cell_type": "code",
      "source": [
        "scaler = MinMaxScaler()\n",
        "scaler.fit(X)\n",
        "X_0 = scaler.transform(X)\n",
        "X = pd.DataFrame(data = X_0, columns = X.columns)\n",
        "X.head()"
      ],
      "metadata": {
        "colab": {
          "base_uri": "https://localhost:8080/",
          "height": 300
        },
        "id": "nt8l6rIVr4Zp",
        "outputId": "4927a530-4c4e-45a4-d0ef-1498956555ca"
      },
      "execution_count": null,
      "outputs": [
        {
          "output_type": "execute_result",
          "data": {
            "text/plain": [
              "   city  year  weekofyear     month   ndvi_ne   ndvi_nw   ndvi_se   ndvi_sw  \\\n",
              "0   0.0   0.0    0.193182  0.272727  0.578226  0.614835  0.386418  0.395544   \n",
              "1   0.0   0.0    0.204545  0.363636  0.629943  0.657063  0.321190  0.359233   \n",
              "2   0.0   0.0    0.215909  0.363636  0.479441  0.690881  0.311879  0.384430   \n",
              "3   0.0   0.0    0.227273  0.363636  0.584823  0.770066  0.438912  0.491150   \n",
              "4   0.0   0.0    0.238636  0.363636  0.658698  0.788882  0.481601  0.509943   \n",
              "\n",
              "   precipitation_amt_mm  reanalysis_air_temp_k  ...  \\\n",
              "0              0.031797               0.388291  ...   \n",
              "1              0.058423               0.472710  ...   \n",
              "2              0.088428               0.548064  ...   \n",
              "3              0.039324               0.575260  ...   \n",
              "4              0.019252               0.645515  ...   \n",
              "\n",
              "   reanalysis_relative_humidity_percent  reanalysis_sat_precip_amt_mm  \\\n",
              "0                              0.381614                      0.031797   \n",
              "1                              0.479668                      0.058423   \n",
              "2                              0.594415                      0.088428   \n",
              "3                              0.552387                      0.039324   \n",
              "4                              0.555396                      0.019252   \n",
              "\n",
              "   reanalysis_specific_humidity_g_per_kg  reanalysis_tdtr_k  \\\n",
              "0                               0.262659           0.086660   \n",
              "1                               0.418164           0.069133   \n",
              "2                               0.586900           0.064265   \n",
              "3                               0.566808           0.073028   \n",
              "4                               0.628226           0.112950   \n",
              "\n",
              "   station_avg_temp_c  station_diur_temp_rng_c  station_max_temp_c  \\\n",
              "0            0.430091                 0.210393            0.174194   \n",
              "1            0.565350                 0.163498            0.322581   \n",
              "2            0.565350                 0.173638            0.354839   \n",
              "3            0.645897                 0.198986            0.425806   \n",
              "4            0.802432                 0.429658            0.535484   \n",
              "\n",
              "   station_min_temp_c  station_precip_mm       veg  \n",
              "0            0.486239           0.029450  0.407631  \n",
              "1            0.688073           0.015829  0.419152  \n",
              "2            0.743119           0.076201  0.378645  \n",
              "3            0.788991           0.007362  0.505996  \n",
              "4            0.844037           0.010676  0.556200  \n",
              "\n",
              "[5 rows x 25 columns]"
            ],
            "text/html": [
              "\n",
              "  <div id=\"df-54c5d71f-dd98-4496-b4ea-5d7a0682b18a\">\n",
              "    <div class=\"colab-df-container\">\n",
              "      <div>\n",
              "<style scoped>\n",
              "    .dataframe tbody tr th:only-of-type {\n",
              "        vertical-align: middle;\n",
              "    }\n",
              "\n",
              "    .dataframe tbody tr th {\n",
              "        vertical-align: top;\n",
              "    }\n",
              "\n",
              "    .dataframe thead th {\n",
              "        text-align: right;\n",
              "    }\n",
              "</style>\n",
              "<table border=\"1\" class=\"dataframe\">\n",
              "  <thead>\n",
              "    <tr style=\"text-align: right;\">\n",
              "      <th></th>\n",
              "      <th>city</th>\n",
              "      <th>year</th>\n",
              "      <th>weekofyear</th>\n",
              "      <th>month</th>\n",
              "      <th>ndvi_ne</th>\n",
              "      <th>ndvi_nw</th>\n",
              "      <th>ndvi_se</th>\n",
              "      <th>ndvi_sw</th>\n",
              "      <th>precipitation_amt_mm</th>\n",
              "      <th>reanalysis_air_temp_k</th>\n",
              "      <th>...</th>\n",
              "      <th>reanalysis_relative_humidity_percent</th>\n",
              "      <th>reanalysis_sat_precip_amt_mm</th>\n",
              "      <th>reanalysis_specific_humidity_g_per_kg</th>\n",
              "      <th>reanalysis_tdtr_k</th>\n",
              "      <th>station_avg_temp_c</th>\n",
              "      <th>station_diur_temp_rng_c</th>\n",
              "      <th>station_max_temp_c</th>\n",
              "      <th>station_min_temp_c</th>\n",
              "      <th>station_precip_mm</th>\n",
              "      <th>veg</th>\n",
              "    </tr>\n",
              "  </thead>\n",
              "  <tbody>\n",
              "    <tr>\n",
              "      <th>0</th>\n",
              "      <td>0.0</td>\n",
              "      <td>0.0</td>\n",
              "      <td>0.193182</td>\n",
              "      <td>0.272727</td>\n",
              "      <td>0.578226</td>\n",
              "      <td>0.614835</td>\n",
              "      <td>0.386418</td>\n",
              "      <td>0.395544</td>\n",
              "      <td>0.031797</td>\n",
              "      <td>0.388291</td>\n",
              "      <td>...</td>\n",
              "      <td>0.381614</td>\n",
              "      <td>0.031797</td>\n",
              "      <td>0.262659</td>\n",
              "      <td>0.086660</td>\n",
              "      <td>0.430091</td>\n",
              "      <td>0.210393</td>\n",
              "      <td>0.174194</td>\n",
              "      <td>0.486239</td>\n",
              "      <td>0.029450</td>\n",
              "      <td>0.407631</td>\n",
              "    </tr>\n",
              "    <tr>\n",
              "      <th>1</th>\n",
              "      <td>0.0</td>\n",
              "      <td>0.0</td>\n",
              "      <td>0.204545</td>\n",
              "      <td>0.363636</td>\n",
              "      <td>0.629943</td>\n",
              "      <td>0.657063</td>\n",
              "      <td>0.321190</td>\n",
              "      <td>0.359233</td>\n",
              "      <td>0.058423</td>\n",
              "      <td>0.472710</td>\n",
              "      <td>...</td>\n",
              "      <td>0.479668</td>\n",
              "      <td>0.058423</td>\n",
              "      <td>0.418164</td>\n",
              "      <td>0.069133</td>\n",
              "      <td>0.565350</td>\n",
              "      <td>0.163498</td>\n",
              "      <td>0.322581</td>\n",
              "      <td>0.688073</td>\n",
              "      <td>0.015829</td>\n",
              "      <td>0.419152</td>\n",
              "    </tr>\n",
              "    <tr>\n",
              "      <th>2</th>\n",
              "      <td>0.0</td>\n",
              "      <td>0.0</td>\n",
              "      <td>0.215909</td>\n",
              "      <td>0.363636</td>\n",
              "      <td>0.479441</td>\n",
              "      <td>0.690881</td>\n",
              "      <td>0.311879</td>\n",
              "      <td>0.384430</td>\n",
              "      <td>0.088428</td>\n",
              "      <td>0.548064</td>\n",
              "      <td>...</td>\n",
              "      <td>0.594415</td>\n",
              "      <td>0.088428</td>\n",
              "      <td>0.586900</td>\n",
              "      <td>0.064265</td>\n",
              "      <td>0.565350</td>\n",
              "      <td>0.173638</td>\n",
              "      <td>0.354839</td>\n",
              "      <td>0.743119</td>\n",
              "      <td>0.076201</td>\n",
              "      <td>0.378645</td>\n",
              "    </tr>\n",
              "    <tr>\n",
              "      <th>3</th>\n",
              "      <td>0.0</td>\n",
              "      <td>0.0</td>\n",
              "      <td>0.227273</td>\n",
              "      <td>0.363636</td>\n",
              "      <td>0.584823</td>\n",
              "      <td>0.770066</td>\n",
              "      <td>0.438912</td>\n",
              "      <td>0.491150</td>\n",
              "      <td>0.039324</td>\n",
              "      <td>0.575260</td>\n",
              "      <td>...</td>\n",
              "      <td>0.552387</td>\n",
              "      <td>0.039324</td>\n",
              "      <td>0.566808</td>\n",
              "      <td>0.073028</td>\n",
              "      <td>0.645897</td>\n",
              "      <td>0.198986</td>\n",
              "      <td>0.425806</td>\n",
              "      <td>0.788991</td>\n",
              "      <td>0.007362</td>\n",
              "      <td>0.505996</td>\n",
              "    </tr>\n",
              "    <tr>\n",
              "      <th>4</th>\n",
              "      <td>0.0</td>\n",
              "      <td>0.0</td>\n",
              "      <td>0.238636</td>\n",
              "      <td>0.363636</td>\n",
              "      <td>0.658698</td>\n",
              "      <td>0.788882</td>\n",
              "      <td>0.481601</td>\n",
              "      <td>0.509943</td>\n",
              "      <td>0.019252</td>\n",
              "      <td>0.645515</td>\n",
              "      <td>...</td>\n",
              "      <td>0.555396</td>\n",
              "      <td>0.019252</td>\n",
              "      <td>0.628226</td>\n",
              "      <td>0.112950</td>\n",
              "      <td>0.802432</td>\n",
              "      <td>0.429658</td>\n",
              "      <td>0.535484</td>\n",
              "      <td>0.844037</td>\n",
              "      <td>0.010676</td>\n",
              "      <td>0.556200</td>\n",
              "    </tr>\n",
              "  </tbody>\n",
              "</table>\n",
              "<p>5 rows × 25 columns</p>\n",
              "</div>\n",
              "      <button class=\"colab-df-convert\" onclick=\"convertToInteractive('df-54c5d71f-dd98-4496-b4ea-5d7a0682b18a')\"\n",
              "              title=\"Convert this dataframe to an interactive table.\"\n",
              "              style=\"display:none;\">\n",
              "        \n",
              "  <svg xmlns=\"http://www.w3.org/2000/svg\" height=\"24px\"viewBox=\"0 0 24 24\"\n",
              "       width=\"24px\">\n",
              "    <path d=\"M0 0h24v24H0V0z\" fill=\"none\"/>\n",
              "    <path d=\"M18.56 5.44l.94 2.06.94-2.06 2.06-.94-2.06-.94-.94-2.06-.94 2.06-2.06.94zm-11 1L8.5 8.5l.94-2.06 2.06-.94-2.06-.94L8.5 2.5l-.94 2.06-2.06.94zm10 10l.94 2.06.94-2.06 2.06-.94-2.06-.94-.94-2.06-.94 2.06-2.06.94z\"/><path d=\"M17.41 7.96l-1.37-1.37c-.4-.4-.92-.59-1.43-.59-.52 0-1.04.2-1.43.59L10.3 9.45l-7.72 7.72c-.78.78-.78 2.05 0 2.83L4 21.41c.39.39.9.59 1.41.59.51 0 1.02-.2 1.41-.59l7.78-7.78 2.81-2.81c.8-.78.8-2.07 0-2.86zM5.41 20L4 18.59l7.72-7.72 1.47 1.35L5.41 20z\"/>\n",
              "  </svg>\n",
              "      </button>\n",
              "      \n",
              "  <style>\n",
              "    .colab-df-container {\n",
              "      display:flex;\n",
              "      flex-wrap:wrap;\n",
              "      gap: 12px;\n",
              "    }\n",
              "\n",
              "    .colab-df-convert {\n",
              "      background-color: #E8F0FE;\n",
              "      border: none;\n",
              "      border-radius: 50%;\n",
              "      cursor: pointer;\n",
              "      display: none;\n",
              "      fill: #1967D2;\n",
              "      height: 32px;\n",
              "      padding: 0 0 0 0;\n",
              "      width: 32px;\n",
              "    }\n",
              "\n",
              "    .colab-df-convert:hover {\n",
              "      background-color: #E2EBFA;\n",
              "      box-shadow: 0px 1px 2px rgba(60, 64, 67, 0.3), 0px 1px 3px 1px rgba(60, 64, 67, 0.15);\n",
              "      fill: #174EA6;\n",
              "    }\n",
              "\n",
              "    [theme=dark] .colab-df-convert {\n",
              "      background-color: #3B4455;\n",
              "      fill: #D2E3FC;\n",
              "    }\n",
              "\n",
              "    [theme=dark] .colab-df-convert:hover {\n",
              "      background-color: #434B5C;\n",
              "      box-shadow: 0px 1px 3px 1px rgba(0, 0, 0, 0.15);\n",
              "      filter: drop-shadow(0px 1px 2px rgba(0, 0, 0, 0.3));\n",
              "      fill: #FFFFFF;\n",
              "    }\n",
              "  </style>\n",
              "\n",
              "      <script>\n",
              "        const buttonEl =\n",
              "          document.querySelector('#df-54c5d71f-dd98-4496-b4ea-5d7a0682b18a button.colab-df-convert');\n",
              "        buttonEl.style.display =\n",
              "          google.colab.kernel.accessAllowed ? 'block' : 'none';\n",
              "\n",
              "        async function convertToInteractive(key) {\n",
              "          const element = document.querySelector('#df-54c5d71f-dd98-4496-b4ea-5d7a0682b18a');\n",
              "          const dataTable =\n",
              "            await google.colab.kernel.invokeFunction('convertToInteractive',\n",
              "                                                     [key], {});\n",
              "          if (!dataTable) return;\n",
              "\n",
              "          const docLinkHtml = 'Like what you see? Visit the ' +\n",
              "            '<a target=\"_blank\" href=https://colab.research.google.com/notebooks/data_table.ipynb>data table notebook</a>'\n",
              "            + ' to learn more about interactive tables.';\n",
              "          element.innerHTML = '';\n",
              "          dataTable['output_type'] = 'display_data';\n",
              "          await google.colab.output.renderOutput(dataTable, element);\n",
              "          const docLink = document.createElement('div');\n",
              "          docLink.innerHTML = docLinkHtml;\n",
              "          element.appendChild(docLink);\n",
              "        }\n",
              "      </script>\n",
              "    </div>\n",
              "  </div>\n",
              "  "
            ]
          },
          "metadata": {},
          "execution_count": 59
        }
      ]
    },
    {
      "cell_type": "code",
      "source": [
        "test_df_0 = scaler.transform(test_df)\n",
        "test_df = pd.DataFrame(data = test_df_0, columns = test_df.columns)\n",
        "test_df.head()"
      ],
      "metadata": {
        "colab": {
          "base_uri": "https://localhost:8080/",
          "height": 300
        },
        "id": "UhSP4AaksNhE",
        "outputId": "a89a27d2-36dc-40cf-c2a9-ea1370c0c3bf"
      },
      "execution_count": null,
      "outputs": [
        {
          "output_type": "execute_result",
          "data": {
            "text/plain": [
              "   city  year  weekofyear     month   ndvi_ne   ndvi_nw   ndvi_se   ndvi_sw  \\\n",
              "0   0.0   0.9    0.193182  0.272727  0.423515  0.480161  0.213528  0.253755   \n",
              "1   0.0   0.9    0.204545  0.363636  0.424499  0.487299  0.176179  0.222768   \n",
              "2   0.0   0.9    0.215909  0.363636  0.442540  0.487299  0.300835  0.254294   \n",
              "3   0.0   0.9    0.227273  0.363636  0.442540  0.479099  0.252528  0.310338   \n",
              "4   0.0   0.9    0.238636  0.363636  0.506283  0.544665  0.140472  0.228675   \n",
              "\n",
              "   precipitation_amt_mm  reanalysis_air_temp_k  ...  \\\n",
              "0              0.201229               0.509915  ...   \n",
              "1              0.032156               0.507649  ...   \n",
              "2              0.009370               0.637205  ...   \n",
              "3              0.000000               0.668178  ...   \n",
              "4              0.001946               0.680076  ...   \n",
              "\n",
              "   reanalysis_relative_humidity_percent  reanalysis_sat_precip_amt_mm  \\\n",
              "0                              0.514278                      0.201229   \n",
              "1                              0.500770                      0.032156   \n",
              "2                              0.501750                      0.009370   \n",
              "3                              0.373040                      0.000000   \n",
              "4                              0.399216                      0.001946   \n",
              "\n",
              "   reanalysis_specific_humidity_g_per_kg  reanalysis_tdtr_k  \\\n",
              "0                               0.480562           0.120740   \n",
              "1                               0.466024           0.082765   \n",
              "2                               0.566972           0.209348   \n",
              "3                               0.464227           0.203505   \n",
              "4                               0.505554           0.148978   \n",
              "\n",
              "   station_avg_temp_c  station_diur_temp_rng_c  station_max_temp_c  \\\n",
              "0            0.545593                 0.224335            0.425806   \n",
              "1            0.496960                 0.091255            0.212903   \n",
              "2            0.694529                 0.288973            0.393548   \n",
              "3            0.708207                 0.154626            0.425806   \n",
              "4            0.661094                 0.226869            0.425806   \n",
              "\n",
              "   station_min_temp_c  station_precip_mm       veg  \n",
              "0            0.642202           0.138413  0.220598  \n",
              "1            0.688073           0.063133  0.207115  \n",
              "2            0.743119           0.005522  0.251016  \n",
              "3            0.889908           0.000552  0.250989  \n",
              "4            0.788991           0.154795  0.253573  \n",
              "\n",
              "[5 rows x 25 columns]"
            ],
            "text/html": [
              "\n",
              "  <div id=\"df-571fe847-5a65-4586-8dac-8427e9814432\">\n",
              "    <div class=\"colab-df-container\">\n",
              "      <div>\n",
              "<style scoped>\n",
              "    .dataframe tbody tr th:only-of-type {\n",
              "        vertical-align: middle;\n",
              "    }\n",
              "\n",
              "    .dataframe tbody tr th {\n",
              "        vertical-align: top;\n",
              "    }\n",
              "\n",
              "    .dataframe thead th {\n",
              "        text-align: right;\n",
              "    }\n",
              "</style>\n",
              "<table border=\"1\" class=\"dataframe\">\n",
              "  <thead>\n",
              "    <tr style=\"text-align: right;\">\n",
              "      <th></th>\n",
              "      <th>city</th>\n",
              "      <th>year</th>\n",
              "      <th>weekofyear</th>\n",
              "      <th>month</th>\n",
              "      <th>ndvi_ne</th>\n",
              "      <th>ndvi_nw</th>\n",
              "      <th>ndvi_se</th>\n",
              "      <th>ndvi_sw</th>\n",
              "      <th>precipitation_amt_mm</th>\n",
              "      <th>reanalysis_air_temp_k</th>\n",
              "      <th>...</th>\n",
              "      <th>reanalysis_relative_humidity_percent</th>\n",
              "      <th>reanalysis_sat_precip_amt_mm</th>\n",
              "      <th>reanalysis_specific_humidity_g_per_kg</th>\n",
              "      <th>reanalysis_tdtr_k</th>\n",
              "      <th>station_avg_temp_c</th>\n",
              "      <th>station_diur_temp_rng_c</th>\n",
              "      <th>station_max_temp_c</th>\n",
              "      <th>station_min_temp_c</th>\n",
              "      <th>station_precip_mm</th>\n",
              "      <th>veg</th>\n",
              "    </tr>\n",
              "  </thead>\n",
              "  <tbody>\n",
              "    <tr>\n",
              "      <th>0</th>\n",
              "      <td>0.0</td>\n",
              "      <td>0.9</td>\n",
              "      <td>0.193182</td>\n",
              "      <td>0.272727</td>\n",
              "      <td>0.423515</td>\n",
              "      <td>0.480161</td>\n",
              "      <td>0.213528</td>\n",
              "      <td>0.253755</td>\n",
              "      <td>0.201229</td>\n",
              "      <td>0.509915</td>\n",
              "      <td>...</td>\n",
              "      <td>0.514278</td>\n",
              "      <td>0.201229</td>\n",
              "      <td>0.480562</td>\n",
              "      <td>0.120740</td>\n",
              "      <td>0.545593</td>\n",
              "      <td>0.224335</td>\n",
              "      <td>0.425806</td>\n",
              "      <td>0.642202</td>\n",
              "      <td>0.138413</td>\n",
              "      <td>0.220598</td>\n",
              "    </tr>\n",
              "    <tr>\n",
              "      <th>1</th>\n",
              "      <td>0.0</td>\n",
              "      <td>0.9</td>\n",
              "      <td>0.204545</td>\n",
              "      <td>0.363636</td>\n",
              "      <td>0.424499</td>\n",
              "      <td>0.487299</td>\n",
              "      <td>0.176179</td>\n",
              "      <td>0.222768</td>\n",
              "      <td>0.032156</td>\n",
              "      <td>0.507649</td>\n",
              "      <td>...</td>\n",
              "      <td>0.500770</td>\n",
              "      <td>0.032156</td>\n",
              "      <td>0.466024</td>\n",
              "      <td>0.082765</td>\n",
              "      <td>0.496960</td>\n",
              "      <td>0.091255</td>\n",
              "      <td>0.212903</td>\n",
              "      <td>0.688073</td>\n",
              "      <td>0.063133</td>\n",
              "      <td>0.207115</td>\n",
              "    </tr>\n",
              "    <tr>\n",
              "      <th>2</th>\n",
              "      <td>0.0</td>\n",
              "      <td>0.9</td>\n",
              "      <td>0.215909</td>\n",
              "      <td>0.363636</td>\n",
              "      <td>0.442540</td>\n",
              "      <td>0.487299</td>\n",
              "      <td>0.300835</td>\n",
              "      <td>0.254294</td>\n",
              "      <td>0.009370</td>\n",
              "      <td>0.637205</td>\n",
              "      <td>...</td>\n",
              "      <td>0.501750</td>\n",
              "      <td>0.009370</td>\n",
              "      <td>0.566972</td>\n",
              "      <td>0.209348</td>\n",
              "      <td>0.694529</td>\n",
              "      <td>0.288973</td>\n",
              "      <td>0.393548</td>\n",
              "      <td>0.743119</td>\n",
              "      <td>0.005522</td>\n",
              "      <td>0.251016</td>\n",
              "    </tr>\n",
              "    <tr>\n",
              "      <th>3</th>\n",
              "      <td>0.0</td>\n",
              "      <td>0.9</td>\n",
              "      <td>0.227273</td>\n",
              "      <td>0.363636</td>\n",
              "      <td>0.442540</td>\n",
              "      <td>0.479099</td>\n",
              "      <td>0.252528</td>\n",
              "      <td>0.310338</td>\n",
              "      <td>0.000000</td>\n",
              "      <td>0.668178</td>\n",
              "      <td>...</td>\n",
              "      <td>0.373040</td>\n",
              "      <td>0.000000</td>\n",
              "      <td>0.464227</td>\n",
              "      <td>0.203505</td>\n",
              "      <td>0.708207</td>\n",
              "      <td>0.154626</td>\n",
              "      <td>0.425806</td>\n",
              "      <td>0.889908</td>\n",
              "      <td>0.000552</td>\n",
              "      <td>0.250989</td>\n",
              "    </tr>\n",
              "    <tr>\n",
              "      <th>4</th>\n",
              "      <td>0.0</td>\n",
              "      <td>0.9</td>\n",
              "      <td>0.238636</td>\n",
              "      <td>0.363636</td>\n",
              "      <td>0.506283</td>\n",
              "      <td>0.544665</td>\n",
              "      <td>0.140472</td>\n",
              "      <td>0.228675</td>\n",
              "      <td>0.001946</td>\n",
              "      <td>0.680076</td>\n",
              "      <td>...</td>\n",
              "      <td>0.399216</td>\n",
              "      <td>0.001946</td>\n",
              "      <td>0.505554</td>\n",
              "      <td>0.148978</td>\n",
              "      <td>0.661094</td>\n",
              "      <td>0.226869</td>\n",
              "      <td>0.425806</td>\n",
              "      <td>0.788991</td>\n",
              "      <td>0.154795</td>\n",
              "      <td>0.253573</td>\n",
              "    </tr>\n",
              "  </tbody>\n",
              "</table>\n",
              "<p>5 rows × 25 columns</p>\n",
              "</div>\n",
              "      <button class=\"colab-df-convert\" onclick=\"convertToInteractive('df-571fe847-5a65-4586-8dac-8427e9814432')\"\n",
              "              title=\"Convert this dataframe to an interactive table.\"\n",
              "              style=\"display:none;\">\n",
              "        \n",
              "  <svg xmlns=\"http://www.w3.org/2000/svg\" height=\"24px\"viewBox=\"0 0 24 24\"\n",
              "       width=\"24px\">\n",
              "    <path d=\"M0 0h24v24H0V0z\" fill=\"none\"/>\n",
              "    <path d=\"M18.56 5.44l.94 2.06.94-2.06 2.06-.94-2.06-.94-.94-2.06-.94 2.06-2.06.94zm-11 1L8.5 8.5l.94-2.06 2.06-.94-2.06-.94L8.5 2.5l-.94 2.06-2.06.94zm10 10l.94 2.06.94-2.06 2.06-.94-2.06-.94-.94-2.06-.94 2.06-2.06.94z\"/><path d=\"M17.41 7.96l-1.37-1.37c-.4-.4-.92-.59-1.43-.59-.52 0-1.04.2-1.43.59L10.3 9.45l-7.72 7.72c-.78.78-.78 2.05 0 2.83L4 21.41c.39.39.9.59 1.41.59.51 0 1.02-.2 1.41-.59l7.78-7.78 2.81-2.81c.8-.78.8-2.07 0-2.86zM5.41 20L4 18.59l7.72-7.72 1.47 1.35L5.41 20z\"/>\n",
              "  </svg>\n",
              "      </button>\n",
              "      \n",
              "  <style>\n",
              "    .colab-df-container {\n",
              "      display:flex;\n",
              "      flex-wrap:wrap;\n",
              "      gap: 12px;\n",
              "    }\n",
              "\n",
              "    .colab-df-convert {\n",
              "      background-color: #E8F0FE;\n",
              "      border: none;\n",
              "      border-radius: 50%;\n",
              "      cursor: pointer;\n",
              "      display: none;\n",
              "      fill: #1967D2;\n",
              "      height: 32px;\n",
              "      padding: 0 0 0 0;\n",
              "      width: 32px;\n",
              "    }\n",
              "\n",
              "    .colab-df-convert:hover {\n",
              "      background-color: #E2EBFA;\n",
              "      box-shadow: 0px 1px 2px rgba(60, 64, 67, 0.3), 0px 1px 3px 1px rgba(60, 64, 67, 0.15);\n",
              "      fill: #174EA6;\n",
              "    }\n",
              "\n",
              "    [theme=dark] .colab-df-convert {\n",
              "      background-color: #3B4455;\n",
              "      fill: #D2E3FC;\n",
              "    }\n",
              "\n",
              "    [theme=dark] .colab-df-convert:hover {\n",
              "      background-color: #434B5C;\n",
              "      box-shadow: 0px 1px 3px 1px rgba(0, 0, 0, 0.15);\n",
              "      filter: drop-shadow(0px 1px 2px rgba(0, 0, 0, 0.3));\n",
              "      fill: #FFFFFF;\n",
              "    }\n",
              "  </style>\n",
              "\n",
              "      <script>\n",
              "        const buttonEl =\n",
              "          document.querySelector('#df-571fe847-5a65-4586-8dac-8427e9814432 button.colab-df-convert');\n",
              "        buttonEl.style.display =\n",
              "          google.colab.kernel.accessAllowed ? 'block' : 'none';\n",
              "\n",
              "        async function convertToInteractive(key) {\n",
              "          const element = document.querySelector('#df-571fe847-5a65-4586-8dac-8427e9814432');\n",
              "          const dataTable =\n",
              "            await google.colab.kernel.invokeFunction('convertToInteractive',\n",
              "                                                     [key], {});\n",
              "          if (!dataTable) return;\n",
              "\n",
              "          const docLinkHtml = 'Like what you see? Visit the ' +\n",
              "            '<a target=\"_blank\" href=https://colab.research.google.com/notebooks/data_table.ipynb>data table notebook</a>'\n",
              "            + ' to learn more about interactive tables.';\n",
              "          element.innerHTML = '';\n",
              "          dataTable['output_type'] = 'display_data';\n",
              "          await google.colab.output.renderOutput(dataTable, element);\n",
              "          const docLink = document.createElement('div');\n",
              "          docLink.innerHTML = docLinkHtml;\n",
              "          element.appendChild(docLink);\n",
              "        }\n",
              "      </script>\n",
              "    </div>\n",
              "  </div>\n",
              "  "
            ]
          },
          "metadata": {},
          "execution_count": 60
        }
      ]
    },
    {
      "cell_type": "code",
      "source": [
        "X_train, X_test , y_train, y_test = train_test_split(X, y, test_size=0.20, random_state=1)"
      ],
      "metadata": {
        "id": "LlRFcWkjprek"
      },
      "execution_count": null,
      "outputs": []
    },
    {
      "cell_type": "markdown",
      "source": [
        "# Training time"
      ],
      "metadata": {
        "id": "_8v6um4QmAET"
      }
    },
    {
      "cell_type": "markdown",
      "source": [
        "Gamma distribution "
      ],
      "metadata": {
        "id": "4M_dQMFAsxFF"
      }
    },
    {
      "cell_type": "code",
      "source": [
        "model = sm.GLM(y_train, X_train, family=sm.families.Gamma()).fit()"
      ],
      "metadata": {
        "colab": {
          "base_uri": "https://localhost:8080/"
        },
        "id": "3IwjGiWxkDrn",
        "outputId": "fd519d3e-2f58-4414-d3cd-7066148f950e"
      },
      "execution_count": null,
      "outputs": [
        {
          "output_type": "stream",
          "name": "stderr",
          "text": [
            "/usr/local/lib/python3.8/dist-packages/statsmodels/genmod/generalized_linear_model.py:293: DomainWarning: The inverse_power link function does not respect the domain of the Gamma family.\n",
            "  warnings.warn((f\"The {type(family.link).__name__} link function \"\n"
          ]
        }
      ]
    },
    {
      "cell_type": "code",
      "source": [
        "predictions = model.predict(X_test)\n",
        "predictions = round(predictions,0)\n",
        "score = eval_measures.meanabs(predictions, y_test)\n",
        "print(score)"
      ],
      "metadata": {
        "colab": {
          "base_uri": "https://localhost:8080/"
        },
        "id": "icA3KP7slVMw",
        "outputId": "ab7c9059-ae96-40a0-8045-05f61afdd07a"
      },
      "execution_count": null,
      "outputs": [
        {
          "output_type": "stream",
          "name": "stdout",
          "text": [
            "19.386986301369863\n"
          ]
        }
      ]
    },
    {
      "cell_type": "markdown",
      "source": [
        "Negative Binomial distribution"
      ],
      "metadata": {
        "id": "MNeNcWOtufo9"
      }
    },
    {
      "cell_type": "code",
      "source": [
        "model = sm.GLM(y_train, X_train, family=sm.families.NegativeBinomial()).fit()"
      ],
      "metadata": {
        "id": "ZyWqwFhusvci"
      },
      "execution_count": null,
      "outputs": []
    },
    {
      "cell_type": "code",
      "source": [
        "predictions = model.predict(X_test)\n",
        "predictions = round(predictions,0)\n",
        "score = eval_measures.meanabs(predictions, y_test)\n",
        "print(score)"
      ],
      "metadata": {
        "colab": {
          "base_uri": "https://localhost:8080/"
        },
        "id": "vBU2vVdqtVxi",
        "outputId": "6537ed41-1d99-4e80-ced7-e6e265496e4c"
      },
      "execution_count": null,
      "outputs": [
        {
          "output_type": "stream",
          "name": "stdout",
          "text": [
            "16.97945205479452\n"
          ]
        }
      ]
    },
    {
      "cell_type": "markdown",
      "source": [
        "Random forests"
      ],
      "metadata": {
        "id": "L_gi2qzWulU_"
      }
    },
    {
      "cell_type": "code",
      "source": [
        "rf = RandomForestRegressor(max_features=7, n_estimators=500, random_state=1)\n",
        "rf.fit(X_train, y_train)"
      ],
      "metadata": {
        "colab": {
          "base_uri": "https://localhost:8080/"
        },
        "id": "zSYYooTNueLT",
        "outputId": "1386640e-c408-4652-8ea7-90f12b9b395c"
      },
      "execution_count": null,
      "outputs": [
        {
          "output_type": "execute_result",
          "data": {
            "text/plain": [
              "RandomForestRegressor(max_features=7, n_estimators=500, random_state=1)"
            ]
          },
          "metadata": {},
          "execution_count": 66
        }
      ]
    },
    {
      "cell_type": "code",
      "source": [
        "predictions = rf.predict(X_test).astype(int)\n",
        "score = eval_measures.meanabs(predictions, y_test)\n",
        "print(score)"
      ],
      "metadata": {
        "colab": {
          "base_uri": "https://localhost:8080/"
        },
        "id": "4p61zQChxSl9",
        "outputId": "95fcbeb3-aebb-4710-8cab-0c917909a995"
      },
      "execution_count": null,
      "outputs": [
        {
          "output_type": "stream",
          "name": "stdout",
          "text": [
            "11.66095890410959\n"
          ]
        }
      ]
    },
    {
      "cell_type": "code",
      "source": [
        "Importance_ = pd.DataFrame({'Importance':rf.feature_importances_*100}, index=X_train.columns)\n",
        "Importance = Importance_.sort_values('Importance', axis=0, ascending=False)[0:20]\n",
        "Importance.plot(kind='barh', color='b', ).invert_yaxis()\n",
        "plt.xlabel('Variable Importance')\n",
        "plt.gca().legend_ = None"
      ],
      "metadata": {
        "colab": {
          "base_uri": "https://localhost:8080/",
          "height": 279
        },
        "id": "Lnw3yDpiz4cY",
        "outputId": "37448016-6f2c-4f8e-cba1-18ae4ff9725b"
      },
      "execution_count": null,
      "outputs": [
        {
          "output_type": "display_data",
          "data": {
            "text/plain": [
              "<Figure size 432x288 with 1 Axes>"
            ],
            "image/png": "[encoded data removed]"
          },
          "metadata": {
            "needs_background": "light"
          }
        }
      ]
    },
    {
      "cell_type": "code",
      "source": [
        "results = rf.predict(test_df).astype(int).tolist()"
      ],
      "metadata": {
        "id": "QLd_xE4xsvc7"
      },
      "execution_count": null,
      "outputs": []
    },
    {
      "cell_type": "code",
      "source": [
        "results_df = pd.DataFrame()\n",
        "results_df['city'] = (pd.read_csv('test_data_features.csv'))['city']\n",
        "results_df['year'] = test_df['year']\n",
        "results_df['weekofyear'] = test_df['weekofyear']\n",
        "results_df['total_cases'] = results"
      ],
      "metadata": {
        "id": "_xLECxTktOyh"
      },
      "execution_count": null,
      "outputs": []
    },
    {
      "cell_type": "code",
      "source": [
        "results_df"
      ],
      "metadata": {
        "colab": {
          "base_uri": "https://localhost:8080/",
          "height": 424
        },
        "id": "UINgo_9TuzJR",
        "outputId": "e44aa2fb-3bb7-433c-ab08-1c47c3050e06"
      },
      "execution_count": null,
      "outputs": [
        {
          "output_type": "execute_result",
          "data": {
            "text/plain": [
              "    city  year  weekofyear  total_cases\n",
              "0     sj  0.90    0.193182            5\n",
              "1     sj  0.90    0.204545            6\n",
              "2     sj  0.90    0.215909           10\n",
              "3     sj  0.90    0.227273           15\n",
              "4     sj  0.90    0.238636           17\n",
              "..   ...   ...         ...          ...\n",
              "411   iq  1.15    0.056818            5\n",
              "412   iq  1.15    0.068182            4\n",
              "413   iq  1.15    0.079545            2\n",
              "414   iq  1.15    0.090909            3\n",
              "415   iq  1.15    0.102273            4\n",
              "\n",
              "[416 rows x 4 columns]"
            ],
            "text/html": [
              "\n",
              "  <div id=\"df-9d4640f2-4f4a-4e06-800f-f68970e9fae4\">\n",
              "    <div class=\"colab-df-container\">\n",
              "      <div>\n",
              "<style scoped>\n",
              "    .dataframe tbody tr th:only-of-type {\n",
              "        vertical-align: middle;\n",
              "    }\n",
              "\n",
              "    .dataframe tbody tr th {\n",
              "        vertical-align: top;\n",
              "    }\n",
              "\n",
              "    .dataframe thead th {\n",
              "        text-align: right;\n",
              "    }\n",
              "</style>\n",
              "<table border=\"1\" class=\"dataframe\">\n",
              "  <thead>\n",
              "    <tr style=\"text-align: right;\">\n",
              "      <th></th>\n",
              "      <th>city</th>\n",
              "      <th>year</th>\n",
              "      <th>weekofyear</th>\n",
              "      <th>total_cases</th>\n",
              "    </tr>\n",
              "  </thead>\n",
              "  <tbody>\n",
              "    <tr>\n",
              "      <th>0</th>\n",
              "      <td>sj</td>\n",
              "      <td>0.90</td>\n",
              "      <td>0.193182</td>\n",
              "      <td>5</td>\n",
              "    </tr>\n",
              "    <tr>\n",
              "      <th>1</th>\n",
              "      <td>sj</td>\n",
              "      <td>0.90</td>\n",
              "      <td>0.204545</td>\n",
              "      <td>6</td>\n",
              "    </tr>\n",
              "    <tr>\n",
              "      <th>2</th>\n",
              "      <td>sj</td>\n",
              "      <td>0.90</td>\n",
              "      <td>0.215909</td>\n",
              "      <td>10</td>\n",
              "    </tr>\n",
              "    <tr>\n",
              "      <th>3</th>\n",
              "      <td>sj</td>\n",
              "      <td>0.90</td>\n",
              "      <td>0.227273</td>\n",
              "      <td>15</td>\n",
              "    </tr>\n",
              "    <tr>\n",
              "      <th>4</th>\n",
              "      <td>sj</td>\n",
              "      <td>0.90</td>\n",
              "      <td>0.238636</td>\n",
              "      <td>17</td>\n",
              "    </tr>\n",
              "    <tr>\n",
              "      <th>...</th>\n",
              "      <td>...</td>\n",
              "      <td>...</td>\n",
              "      <td>...</td>\n",
              "      <td>...</td>\n",
              "    </tr>\n",
              "    <tr>\n",
              "      <th>411</th>\n",
              "      <td>iq</td>\n",
              "      <td>1.15</td>\n",
              "      <td>0.056818</td>\n",
              "      <td>5</td>\n",
              "    </tr>\n",
              "    <tr>\n",
              "      <th>412</th>\n",
              "      <td>iq</td>\n",
              "      <td>1.15</td>\n",
              "      <td>0.068182</td>\n",
              "      <td>4</td>\n",
              "    </tr>\n",
              "    <tr>\n",
              "      <th>413</th>\n",
              "      <td>iq</td>\n",
              "      <td>1.15</td>\n",
              "      <td>0.079545</td>\n",
              "      <td>2</td>\n",
              "    </tr>\n",
              "    <tr>\n",
              "      <th>414</th>\n",
              "      <td>iq</td>\n",
              "      <td>1.15</td>\n",
              "      <td>0.090909</td>\n",
              "      <td>3</td>\n",
              "    </tr>\n",
              "    <tr>\n",
              "      <th>415</th>\n",
              "      <td>iq</td>\n",
              "      <td>1.15</td>\n",
              "      <td>0.102273</td>\n",
              "      <td>4</td>\n",
              "    </tr>\n",
              "  </tbody>\n",
              "</table>\n",
              "<p>416 rows × 4 columns</p>\n",
              "</div>\n",
              "      <button class=\"colab-df-convert\" onclick=\"convertToInteractive('df-9d4640f2-4f4a-4e06-800f-f68970e9fae4')\"\n",
              "              title=\"Convert this dataframe to an interactive table.\"\n",
              "              style=\"display:none;\">\n",
              "        \n",
              "  <svg xmlns=\"http://www.w3.org/2000/svg\" height=\"24px\"viewBox=\"0 0 24 24\"\n",
              "       width=\"24px\">\n",
              "    <path d=\"M0 0h24v24H0V0z\" fill=\"none\"/>\n",
              "    <path d=\"M18.56 5.44l.94 2.06.94-2.06 2.06-.94-2.06-.94-.94-2.06-.94 2.06-2.06.94zm-11 1L8.5 8.5l.94-2.06 2.06-.94-2.06-.94L8.5 2.5l-.94 2.06-2.06.94zm10 10l.94 2.06.94-2.06 2.06-.94-2.06-.94-.94-2.06-.94 2.06-2.06.94z\"/><path d=\"M17.41 7.96l-1.37-1.37c-.4-.4-.92-.59-1.43-.59-.52 0-1.04.2-1.43.59L10.3 9.45l-7.72 7.72c-.78.78-.78 2.05 0 2.83L4 21.41c.39.39.9.59 1.41.59.51 0 1.02-.2 1.41-.59l7.78-7.78 2.81-2.81c.8-.78.8-2.07 0-2.86zM5.41 20L4 18.59l7.72-7.72 1.47 1.35L5.41 20z\"/>\n",
              "  </svg>\n",
              "      </button>\n",
              "      \n",
              "  <style>\n",
              "    .colab-df-container {\n",
              "      display:flex;\n",
              "      flex-wrap:wrap;\n",
              "      gap: 12px;\n",
              "    }\n",
              "\n",
              "    .colab-df-convert {\n",
              "      background-color: #E8F0FE;\n",
              "      border: none;\n",
              "      border-radius: 50%;\n",
              "      cursor: pointer;\n",
              "      display: none;\n",
              "      fill: #1967D2;\n",
              "      height: 32px;\n",
              "      padding: 0 0 0 0;\n",
              "      width: 32px;\n",
              "    }\n",
              "\n",
              "    .colab-df-convert:hover {\n",
              "      background-color: #E2EBFA;\n",
              "      box-shadow: 0px 1px 2px rgba(60, 64, 67, 0.3), 0px 1px 3px 1px rgba(60, 64, 67, 0.15);\n",
              "      fill: #174EA6;\n",
              "    }\n",
              "\n",
              "    [theme=dark] .colab-df-convert {\n",
              "      background-color: #3B4455;\n",
              "      fill: #D2E3FC;\n",
              "    }\n",
              "\n",
              "    [theme=dark] .colab-df-convert:hover {\n",
              "      background-color: #434B5C;\n",
              "      box-shadow: 0px 1px 3px 1px rgba(0, 0, 0, 0.15);\n",
              "      filter: drop-shadow(0px 1px 2px rgba(0, 0, 0, 0.3));\n",
              "      fill: #FFFFFF;\n",
              "    }\n",
              "  </style>\n",
              "\n",
              "      <script>\n",
              "        const buttonEl =\n",
              "          document.querySelector('#df-9d4640f2-4f4a-4e06-800f-f68970e9fae4 button.colab-df-convert');\n",
              "        buttonEl.style.display =\n",
              "          google.colab.kernel.accessAllowed ? 'block' : 'none';\n",
              "\n",
              "        async function convertToInteractive(key) {\n",
              "          const element = document.querySelector('#df-9d4640f2-4f4a-4e06-800f-f68970e9fae4');\n",
              "          const dataTable =\n",
              "            await google.colab.kernel.invokeFunction('convertToInteractive',\n",
              "                                                     [key], {});\n",
              "          if (!dataTable) return;\n",
              "\n",
              "          const docLinkHtml = 'Like what you see? Visit the ' +\n",
              "            '<a target=\"_blank\" href=https://colab.research.google.com/notebooks/data_table.ipynb>data table notebook</a>'\n",
              "            + ' to learn more about interactive tables.';\n",
              "          element.innerHTML = '';\n",
              "          dataTable['output_type'] = 'display_data';\n",
              "          await google.colab.output.renderOutput(dataTable, element);\n",
              "          const docLink = document.createElement('div');\n",
              "          docLink.innerHTML = docLinkHtml;\n",
              "          element.appendChild(docLink);\n",
              "        }\n",
              "      </script>\n",
              "    </div>\n",
              "  </div>\n",
              "  "
            ]
          },
          "metadata": {},
          "execution_count": 71
        }
      ]
    },
    {
      "cell_type": "code",
      "source": [
        "results_df.to_csv('results.csv', index=False)"
      ],
      "metadata": {
        "id": "U_Pmfj06uZSP"
      },
      "execution_count": null,
      "outputs": []
    },
    {
      "cell_type": "code",
      "source": [
        "rf = RandomForestRegressor(max_features=7,max_depth= 2, n_estimators=500, random_state=1)\n",
        "rf.fit(X_train, y_train)"
      ],
      "metadata": {
        "colab": {
          "base_uri": "https://localhost:8080/"
        },
        "id": "BfhFqws8yH0B",
        "outputId": "08758a33-65bd-46ec-f757-0f3436e86cf8"
      },
      "execution_count": null,
      "outputs": [
        {
          "output_type": "execute_result",
          "data": {
            "text/plain": [
              "RandomForestRegressor(max_depth=2, max_features=7, n_estimators=500,\n",
              "                      random_state=1)"
            ]
          },
          "metadata": {},
          "execution_count": 73
        }
      ]
    },
    {
      "cell_type": "code",
      "source": [
        "Importance_ = pd.DataFrame({'Importance':rf.feature_importances_*100}, index=X_train.columns)\n",
        "Importance = Importance_.sort_values('Importance', axis=0, ascending=False)[0:20]\n",
        "Importance.plot(kind='barh', color='b', ).invert_yaxis()\n",
        "plt.xlabel('Variable Importance')\n",
        "plt.gca().legend_ = None"
      ],
      "metadata": {
        "colab": {
          "base_uri": "https://localhost:8080/",
          "height": 279
        },
        "id": "BM6UehnRy8dQ",
        "outputId": "96ba108e-ec62-4833-f72b-2c6eaab06fc1"
      },
      "execution_count": null,
      "outputs": [
        {
          "output_type": "display_data",
          "data": {
            "text/plain": [
              "<Figure size 432x288 with 1 Axes>"
            ],
            "image/png": "[encoded data removed]"
          },
          "metadata": {
            "needs_background": "light"
          }
        }
      ]
    },
    {
      "cell_type": "code",
      "source": [
        "boost = GradientBoostingRegressor(n_estimators=5000, learning_rate=0.01,random_state=1)\n",
        "boost.fit(X_train, y_train)"
      ],
      "metadata": {
        "colab": {
          "base_uri": "https://localhost:8080/"
        },
        "id": "zVY9TE5kCmmJ",
        "outputId": "b56406b6-1994-478c-8da8-e94f01e59862"
      },
      "execution_count": null,
      "outputs": [
        {
          "output_type": "execute_result",
          "data": {
            "text/plain": [
              "GradientBoostingRegressor(learning_rate=0.01, n_estimators=5000, random_state=1)"
            ]
          },
          "metadata": {},
          "execution_count": 75
        }
      ]
    },
    {
      "cell_type": "code",
      "source": [
        "predictions = boost.predict(X_test).astype(int)\n",
        "score = eval_measures.meanabs(predictions, y_test)\n",
        "print(score)"
      ],
      "metadata": {
        "colab": {
          "base_uri": "https://localhost:8080/"
        },
        "id": "O6Y2ewA1Gmr2",
        "outputId": "8e5cb9c9-5cf1-4bd0-eddf-3a300f510f55"
      },
      "execution_count": null,
      "outputs": [
        {
          "output_type": "stream",
          "name": "stdout",
          "text": [
            "11.20890410958904\n"
          ]
        }
      ]
    },
    {
      "cell_type": "code",
      "source": [
        "Importance_ = pd.DataFrame({'Importance':boost.feature_importances_*100}, index=X_train.columns)\n",
        "Importance = Importance_.sort_values('Importance', axis=0, ascending=False)[0:20]\n",
        "Importance.plot(kind='barh', color='b', ).invert_yaxis()\n",
        "plt.xlabel('Variable Importance')\n",
        "plt.gca().legend_ = None"
      ],
      "metadata": {
        "colab": {
          "base_uri": "https://localhost:8080/",
          "height": 279
        },
        "id": "PwyBLD-k5fiF",
        "outputId": "03263f86-1357-403d-96c9-45d3e98e18ab"
      },
      "execution_count": null,
      "outputs": [
        {
          "output_type": "display_data",
          "data": {
            "text/plain": [
              "<Figure size 432x288 with 1 Axes>"
            ],
            "image/png": "[encoded data removed]"
          },
          "metadata": {
            "needs_background": "light"
          }
        }
      ]
    },
    {
      "cell_type": "code",
      "source": [
        "results = boost.predict(test_df).astype(int).tolist()"
      ],
      "metadata": {
        "id": "u4Y8wURGsqCa"
      },
      "execution_count": null,
      "outputs": []
    },
    {
      "cell_type": "code",
      "source": [
        "results_df = pd.DataFrame()\n",
        "results_df['city'] = (pd.read_csv('test_data_features.csv'))['city']\n",
        "results_df['year'] = (pd.read_csv('test_data_features.csv'))['year']\n",
        "results_df['weekofyear'] = (pd.read_csv('test_data_features.csv'))['weekofyear']\n",
        "results_df['total_cases'] = results"
      ],
      "metadata": {
        "id": "6pKPf5zAvo4Z"
      },
      "execution_count": null,
      "outputs": []
    },
    {
      "cell_type": "code",
      "source": [
        "results_df.to_csv('results.csv', index=False)"
      ],
      "metadata": {
        "id": "O_coOmiQvueL"
      },
      "execution_count": null,
      "outputs": []
    },
    {
      "cell_type": "code",
      "source": [
        "def backward_selection(X, y, pvalue_threshold = 0.05):\n",
        "    # start with all the colums\n",
        "    X_train, X_test , y_train, y_test = train_test_split(X, y, test_size=0.20, random_state=1)\n",
        "    included=list(X.columns)\n",
        "    score_min = sys.maxsize\n",
        "    while True:\n",
        "        print(\"Features included: \",included)\n",
        "        model = sm.GLM(y_train, pd.DataFrame(X_train[included]), family=sm.families.NegativeBinomial()).fit()\n",
        "        predictions = round(model.predict(pd.DataFrame(X_test[included])),0)\n",
        "        score = eval_measures.meanabs(predictions, y_test)\n",
        "        print(score)\n",
        "        pvalues = model.pvalues.iloc[1:] #exclude pvalue of intercept\n",
        "        max_pvalue = pvalues.max()\n",
        "        if score_min > score:\n",
        "            score_min = score\n",
        "            worst_feature = pvalues.idxmax()\n",
        "            included.remove(worst_feature)\n",
        "            print(f\"Dropping {worst_feature} with p-value {max_pvalue:.4}\")\n",
        "            continue\n",
        "        break\n",
        "    return included"
      ],
      "metadata": {
        "id": "o4GpFOpkRVoG"
      },
      "execution_count": null,
      "outputs": []
    },
    {
      "cell_type": "code",
      "source": [
        "backward_selection(X,y)"
      ],
      "metadata": {
        "colab": {
          "base_uri": "https://localhost:8080/"
        },
        "id": "eG2sC0UDc2JO",
        "outputId": "fd8597c1-4d23-4779-8cf8-21238dd315e0"
      },
      "execution_count": null,
      "outputs": [
        {
          "output_type": "stream",
          "name": "stdout",
          "text": [
            "Features included:  ['city', 'year', 'weekofyear', 'month', 'ndvi_ne', 'ndvi_nw', 'ndvi_se', 'ndvi_sw', 'precipitation_amt_mm', 'reanalysis_air_temp_k', 'reanalysis_avg_temp_k', 'reanalysis_dew_point_temp_k', 'reanalysis_max_air_temp_k', 'reanalysis_min_air_temp_k', 'reanalysis_precip_amt_kg_per_m2', 'reanalysis_relative_humidity_percent', 'reanalysis_sat_precip_amt_mm', 'reanalysis_specific_humidity_g_per_kg', 'reanalysis_tdtr_k', 'station_avg_temp_c', 'station_diur_temp_rng_c', 'station_max_temp_c', 'station_min_temp_c', 'station_precip_mm']\n",
            "16.94178082191781\n",
            "Dropping station_diur_temp_rng_c with p-value 0.9409\n",
            "Features included:  ['city', 'year', 'weekofyear', 'month', 'ndvi_ne', 'ndvi_nw', 'ndvi_se', 'ndvi_sw', 'precipitation_amt_mm', 'reanalysis_air_temp_k', 'reanalysis_avg_temp_k', 'reanalysis_dew_point_temp_k', 'reanalysis_max_air_temp_k', 'reanalysis_min_air_temp_k', 'reanalysis_precip_amt_kg_per_m2', 'reanalysis_relative_humidity_percent', 'reanalysis_sat_precip_amt_mm', 'reanalysis_specific_humidity_g_per_kg', 'reanalysis_tdtr_k', 'station_avg_temp_c', 'station_max_temp_c', 'station_min_temp_c', 'station_precip_mm']\n",
            "16.95205479452055\n"
          ]
        },
        {
          "output_type": "execute_result",
          "data": {
            "text/plain": [
              "['city',\n",
              " 'year',\n",
              " 'weekofyear',\n",
              " 'month',\n",
              " 'ndvi_ne',\n",
              " 'ndvi_nw',\n",
              " 'ndvi_se',\n",
              " 'ndvi_sw',\n",
              " 'precipitation_amt_mm',\n",
              " 'reanalysis_air_temp_k',\n",
              " 'reanalysis_avg_temp_k',\n",
              " 'reanalysis_dew_point_temp_k',\n",
              " 'reanalysis_max_air_temp_k',\n",
              " 'reanalysis_min_air_temp_k',\n",
              " 'reanalysis_precip_amt_kg_per_m2',\n",
              " 'reanalysis_relative_humidity_percent',\n",
              " 'reanalysis_sat_precip_amt_mm',\n",
              " 'reanalysis_specific_humidity_g_per_kg',\n",
              " 'reanalysis_tdtr_k',\n",
              " 'station_avg_temp_c',\n",
              " 'station_max_temp_c',\n",
              " 'station_min_temp_c',\n",
              " 'station_precip_mm']"
            ]
          },
          "metadata": {},
          "execution_count": 129
        }
      ]
    },
    {
      "cell_type": "markdown",
      "source": [
        "# Spliting according to cities"
      ],
      "metadata": {
        "id": "1x8tkQUb29qq"
      }
    },
    {
      "cell_type": "code",
      "source": [
        "sj_df = df[df['city']==0]\n",
        "iq_df = df[df['city']==1]"
      ],
      "metadata": {
        "id": "XGgh0pQ63EVp"
      },
      "execution_count": null,
      "outputs": []
    },
    {
      "cell_type": "code",
      "source": [
        "plt.plot(sj_df['year'],sj_df['total_cases']);"
      ],
      "metadata": {
        "colab": {
          "base_uri": "https://localhost:8080/",
          "height": 265
        },
        "id": "c4AQnmQjh8lA",
        "outputId": "c62ca025-8bf1-422b-d17d-fb53e7b8274e"
      },
      "execution_count": null,
      "outputs": [
        {
          "output_type": "display_data",
          "data": {
            "text/plain": [
              "<Figure size 432x288 with 1 Axes>"
            ],
            "image/png": "[encoded data removed]"
          },
          "metadata": {
            "needs_background": "light"
          }
        }
      ]
    },
    {
      "cell_type": "code",
      "source": [
        "plt.plot(iq_df['year'],iq_df['total_cases']);"
      ],
      "metadata": {
        "colab": {
          "base_uri": "https://localhost:8080/",
          "height": 266
        },
        "id": "1AZE5tnch_bk",
        "outputId": "83251536-cc9d-4a15-86ad-196194bddf07"
      },
      "execution_count": null,
      "outputs": [
        {
          "output_type": "display_data",
          "data": {
            "text/plain": [
              "<Figure size 432x288 with 1 Axes>"
            ],
            "image/png": "[encoded data removed]"
          },
          "metadata": {
            "needs_background": "light"
          }
        }
      ]
    },
    {
      "cell_type": "code",
      "source": [
        "sj_X = sj_df[['city','year','month','weekofyear','ndvi_ne','ndvi_nw','ndvi_se','ndvi_sw','precipitation_amt_mm','reanalysis_air_temp_k',\n",
        "     'reanalysis_avg_temp_k','reanalysis_dew_point_temp_k','reanalysis_max_air_temp_k',\n",
        "     'reanalysis_min_air_temp_k','reanalysis_precip_amt_kg_per_m2','reanalysis_relative_humidity_percent'\n",
        "                          ,'reanalysis_sat_precip_amt_mm','reanalysis_specific_humidity_g_per_kg','reanalysis_tdtr_k','station_avg_temp_c',\n",
        "                          'station_diur_temp_rng_c','station_max_temp_c','station_min_temp_c','station_precip_mm','veg']]\n",
        "sj_y = sj_df['total_cases']\n",
        "iq_X = iq_df[['city','year','month','weekofyear','ndvi_ne','ndvi_nw','ndvi_se','ndvi_sw','precipitation_amt_mm','reanalysis_air_temp_k',\n",
        "     'reanalysis_avg_temp_k','reanalysis_dew_point_temp_k','reanalysis_max_air_temp_k',\n",
        "     'reanalysis_min_air_temp_k','reanalysis_precip_amt_kg_per_m2','reanalysis_relative_humidity_percent'\n",
        "                          ,'reanalysis_sat_precip_amt_mm','reanalysis_specific_humidity_g_per_kg','reanalysis_tdtr_k','station_avg_temp_c',\n",
        "                          'station_diur_temp_rng_c','station_max_temp_c','station_min_temp_c','station_precip_mm','veg']]\n",
        "iq_y = iq_df['total_cases']"
      ],
      "metadata": {
        "id": "UkGqtZhOISbV"
      },
      "execution_count": null,
      "outputs": []
    },
    {
      "cell_type": "code",
      "source": [
        "plt.scatter(sj_df['month'],sj_df['total_cases'])\n",
        "plt.show()"
      ],
      "metadata": {
        "id": "INWWCIcI0kSz"
      },
      "execution_count": null,
      "outputs": []
    },
    {
      "cell_type": "code",
      "source": [
        "\n",
        "plt.scatter(iq_df['month'],iq_df['total_cases'])\n",
        "plt.show()"
      ],
      "metadata": {
        "colab": {
          "base_uri": "https://localhost:8080/",
          "height": 266
        },
        "id": "cnu9WDT_0o2L",
        "outputId": "281a21f3-12e9-4172-87e1-7ae5223d1843"
      },
      "execution_count": null,
      "outputs": [
        {
          "output_type": "display_data",
          "data": {
            "text/plain": [
              "<Figure size 432x288 with 1 Axes>"
            ],
            "image/png": "[encoded data removed]"
          },
          "metadata": {
            "needs_background": "light"
          }
        }
      ]
    },
    {
      "cell_type": "code",
      "source": [
        "sj_X_train, sj_X_test , sj_y_train, sj_y_test = train_test_split(sj_X, sj_y, test_size=0.20, random_state=1)\n",
        "iq_X_train, iq_X_test , iq_y_train, iq_y_test = train_test_split(iq_X, iq_y, test_size=0.20, random_state=1)"
      ],
      "metadata": {
        "id": "OgkoBN_nIcSt"
      },
      "execution_count": null,
      "outputs": []
    },
    {
      "cell_type": "code",
      "source": [
        "model = sm.GLM(sj_y_train, sj_X_train, family=sm.families.Gamma()).fit()"
      ],
      "metadata": {
        "colab": {
          "base_uri": "https://localhost:8080/"
        },
        "id": "GNio3jNlItzb",
        "outputId": "4cfe55f8-588d-4a98-8d7b-88f5a9d631dc"
      },
      "execution_count": null,
      "outputs": [
        {
          "output_type": "stream",
          "name": "stderr",
          "text": [
            "/usr/local/lib/python3.8/dist-packages/statsmodels/genmod/generalized_linear_model.py:293: DomainWarning: The inverse_power link function does not respect the domain of the Gamma family.\n",
            "  warnings.warn((f\"The {type(family.link).__name__} link function \"\n"
          ]
        }
      ]
    },
    {
      "cell_type": "code",
      "source": [
        "predictions = model.predict(sj_X_test)\n",
        "predictions = round(predictions,0)\n",
        "score = eval_measures.meanabs(predictions, sj_y_test)\n",
        "print(score)"
      ],
      "metadata": {
        "colab": {
          "base_uri": "https://localhost:8080/"
        },
        "id": "OTNeylVfI7QK",
        "outputId": "762aab7f-b900-4aef-f96e-f03f6a4a6365"
      },
      "execution_count": null,
      "outputs": [
        {
          "output_type": "stream",
          "name": "stdout",
          "text": [
            "39.46808510638298\n"
          ]
        }
      ]
    },
    {
      "cell_type": "code",
      "source": [
        "model = sm.GLM(iq_y_train, iq_X_train, family=sm.families.Gamma()).fit()"
      ],
      "metadata": {
        "colab": {
          "base_uri": "https://localhost:8080/"
        },
        "id": "qMhCu0MrKusZ",
        "outputId": "5752d89e-7c50-415f-a38c-76d7ef7c9401"
      },
      "execution_count": null,
      "outputs": [
        {
          "output_type": "stream",
          "name": "stderr",
          "text": [
            "/usr/local/lib/python3.8/dist-packages/statsmodels/genmod/generalized_linear_model.py:293: DomainWarning: The inverse_power link function does not respect the domain of the Gamma family.\n",
            "  warnings.warn((f\"The {type(family.link).__name__} link function \"\n"
          ]
        }
      ]
    },
    {
      "cell_type": "code",
      "source": [
        "predictions = model.predict(iq_X_test)\n",
        "predictions = round(predictions,0)\n",
        "score = eval_measures.meanabs(predictions, iq_y_test)\n",
        "print(score)"
      ],
      "metadata": {
        "colab": {
          "base_uri": "https://localhost:8080/"
        },
        "id": "k3iL6WWmKzGm",
        "outputId": "e531840a-f940-420a-f2b2-1a7e7267bf8a"
      },
      "execution_count": null,
      "outputs": [
        {
          "output_type": "stream",
          "name": "stdout",
          "text": [
            "10.067307692307692\n"
          ]
        }
      ]
    },
    {
      "cell_type": "code",
      "source": [
        "print('MAE for GLM split:' ,(39.468*936+ 10.067*520)/1456)"
      ],
      "metadata": {
        "colab": {
          "base_uri": "https://localhost:8080/"
        },
        "id": "smmLw5i6egwG",
        "outputId": "1f6f21f8-527c-44ca-8871-b23535c64a03"
      },
      "execution_count": null,
      "outputs": [
        {
          "output_type": "stream",
          "name": "stdout",
          "text": [
            "MAE for GLM split: 28.967642857142863\n"
          ]
        }
      ]
    },
    {
      "cell_type": "code",
      "source": [
        "model = sm.GLM(sj_y_train, sj_X_train, family=sm.families.NegativeBinomial()).fit()"
      ],
      "metadata": {
        "id": "yKK_hOJwJBe_"
      },
      "execution_count": null,
      "outputs": []
    },
    {
      "cell_type": "code",
      "source": [
        "predictions = model.predict(sj_X_test)\n",
        "predictions = round(predictions,0)\n",
        "score = eval_measures.meanabs(predictions, sj_y_test)\n",
        "print(score)"
      ],
      "metadata": {
        "colab": {
          "base_uri": "https://localhost:8080/"
        },
        "id": "MZubUvceJJT0",
        "outputId": "5059b07b-b04f-4f8d-cabe-11899fbab4b8"
      },
      "execution_count": null,
      "outputs": [
        {
          "output_type": "stream",
          "name": "stdout",
          "text": [
            "25.175531914893618\n"
          ]
        }
      ]
    },
    {
      "cell_type": "code",
      "source": [
        "model = sm.GLM(iq_y_train, iq_X_train, family=sm.families.NegativeBinomial()).fit()"
      ],
      "metadata": {
        "id": "ZtpUnsorLFad"
      },
      "execution_count": null,
      "outputs": []
    },
    {
      "cell_type": "code",
      "source": [
        "predictions = model.predict(iq_X_test)\n",
        "predictions = round(predictions,0)\n",
        "score = eval_measures.meanabs(predictions, iq_y_test)\n",
        "print(score)"
      ],
      "metadata": {
        "colab": {
          "base_uri": "https://localhost:8080/"
        },
        "id": "4R22lIPiLJoa",
        "outputId": "de800d08-20fe-479b-950c-1b4fa7dde62c"
      },
      "execution_count": null,
      "outputs": [
        {
          "output_type": "stream",
          "name": "stdout",
          "text": [
            "5.894230769230769\n"
          ]
        }
      ]
    },
    {
      "cell_type": "code",
      "source": [
        "print('MAE for GLM negative binomial split:' ,(25.1755*936+ 5.8942*520)/1456)"
      ],
      "metadata": {
        "colab": {
          "base_uri": "https://localhost:8080/"
        },
        "id": "4D6ANHaWgcGg",
        "outputId": "69196e8f-2a7b-47ad-9306-66ee4d1c48ef"
      },
      "execution_count": null,
      "outputs": [
        {
          "output_type": "stream",
          "name": "stdout",
          "text": [
            "MAE for GLM negative binomial split: 18.28932142857143\n"
          ]
        }
      ]
    },
    {
      "cell_type": "code",
      "source": [
        "rf = RandomForestRegressor(max_features=7, n_estimators=500, random_state=1)\n",
        "rf.fit(sj_X_train, sj_y_train)"
      ],
      "metadata": {
        "colab": {
          "base_uri": "https://localhost:8080/"
        },
        "id": "hYqjEk5NJU1G",
        "outputId": "b1ecd0ec-217a-4251-ec85-a0b495dbaf3a"
      },
      "execution_count": null,
      "outputs": [
        {
          "output_type": "execute_result",
          "data": {
            "text/plain": [
              "RandomForestRegressor(max_features=7, n_estimators=500, random_state=1)"
            ]
          },
          "metadata": {},
          "execution_count": 93
        }
      ]
    },
    {
      "cell_type": "code",
      "source": [
        "predictions = rf.predict(sj_X_test).astype(int)\n",
        "score = eval_measures.meanabs(predictions, sj_y_test)\n",
        "print(score)"
      ],
      "metadata": {
        "colab": {
          "base_uri": "https://localhost:8080/"
        },
        "id": "S2_ut9zsJb9N",
        "outputId": "8b8854ad-3607-4d99-8acf-1b43b9ef988f"
      },
      "execution_count": null,
      "outputs": [
        {
          "output_type": "stream",
          "name": "stdout",
          "text": [
            "17.24468085106383\n"
          ]
        }
      ]
    },
    {
      "cell_type": "code",
      "source": [
        "Importance_ = pd.DataFrame({'Importance':rf.feature_importances_*100}, index=sj_X_train.columns)\n",
        "Importance = Importance_.sort_values('Importance', axis=0, ascending=False)[0:20]\n",
        "Importance.plot(kind='barh', color='b', ).invert_yaxis()\n",
        "plt.xlabel('Variable Importance')\n",
        "plt.gca().legend_ = None"
      ],
      "metadata": {
        "colab": {
          "base_uri": "https://localhost:8080/",
          "height": 279
        },
        "id": "LrPz6RcOJp1_",
        "outputId": "c6f62a52-18e4-48f4-85e6-4bb82ef97097"
      },
      "execution_count": null,
      "outputs": [
        {
          "output_type": "display_data",
          "data": {
            "text/plain": [
              "<Figure size 432x288 with 1 Axes>"
            ],
            "image/png": "[encoded data removed]"
          },
          "metadata": {
            "needs_background": "light"
          }
        }
      ]
    },
    {
      "cell_type": "code",
      "source": [
        "rf = RandomForestRegressor(max_features=7, n_estimators=500, random_state=1)\n",
        "rf.fit(iq_X_train, iq_y_train)"
      ],
      "metadata": {
        "colab": {
          "base_uri": "https://localhost:8080/"
        },
        "id": "vqcfRXHVLXYL",
        "outputId": "40a88b53-43c9-4b70-a849-2495e6b0e2e9"
      },
      "execution_count": null,
      "outputs": [
        {
          "output_type": "execute_result",
          "data": {
            "text/plain": [
              "RandomForestRegressor(max_features=7, n_estimators=500, random_state=1)"
            ]
          },
          "metadata": {},
          "execution_count": 96
        }
      ]
    },
    {
      "cell_type": "code",
      "source": [
        "predictions = rf.predict(iq_X_test).astype(int)\n",
        "score = eval_measures.meanabs(predictions, iq_y_test)\n",
        "print(score)"
      ],
      "metadata": {
        "colab": {
          "base_uri": "https://localhost:8080/"
        },
        "id": "ZEcQiVFmLbGV",
        "outputId": "84faad1a-620e-493d-8ac1-7faf66cba5d0"
      },
      "execution_count": null,
      "outputs": [
        {
          "output_type": "stream",
          "name": "stdout",
          "text": [
            "4.865384615384615\n"
          ]
        }
      ]
    },
    {
      "cell_type": "code",
      "source": [
        "Importance_ = pd.DataFrame({'Importance':rf.feature_importances_*100}, index=iq_X_train.columns)\n",
        "Importance = Importance_.sort_values('Importance', axis=0, ascending=False)[0:20]\n",
        "Importance.plot(kind='barh', color='b', ).invert_yaxis()\n",
        "plt.xlabel('Variable Importance')\n",
        "plt.gca().legend_ = None"
      ],
      "metadata": {
        "colab": {
          "base_uri": "https://localhost:8080/",
          "height": 279
        },
        "id": "212CLGhkLhXz",
        "outputId": "d12c84af-9042-4015-ee52-b2350cdb3abb"
      },
      "execution_count": null,
      "outputs": [
        {
          "output_type": "display_data",
          "data": {
            "text/plain": [
              "<Figure size 432x288 with 1 Axes>"
            ],
            "image/png": "[encoded data removed]"
          },
          "metadata": {
            "needs_background": "light"
          }
        }
      ]
    },
    {
      "cell_type": "code",
      "source": [
        "print('MAE for rf split:' ,(17.2446*936+ 4.8653*520)/1456)"
      ],
      "metadata": {
        "colab": {
          "base_uri": "https://localhost:8080/"
        },
        "id": "KfloNT1ehkxE",
        "outputId": "8791e848-5fb6-4a4c-fe2c-fc37adf5e9c0"
      },
      "execution_count": null,
      "outputs": [
        {
          "output_type": "stream",
          "name": "stdout",
          "text": [
            "MAE for rf split: 12.823421428571427\n"
          ]
        }
      ]
    },
    {
      "cell_type": "code",
      "source": [
        "boost = GradientBoostingRegressor(n_estimators=5000, learning_rate=0.01,random_state=1)\n",
        "boost.fit(sj_X_train, sj_y_train)"
      ],
      "metadata": {
        "colab": {
          "base_uri": "https://localhost:8080/"
        },
        "id": "6_aoEYuyJszi",
        "outputId": "928aaedc-9245-4da0-8b11-db0b048440d2"
      },
      "execution_count": null,
      "outputs": [
        {
          "output_type": "execute_result",
          "data": {
            "text/plain": [
              "GradientBoostingRegressor(learning_rate=0.01, n_estimators=5000, random_state=1)"
            ]
          },
          "metadata": {},
          "execution_count": 99
        }
      ]
    },
    {
      "cell_type": "code",
      "source": [
        "predictions = boost.predict(sj_X_test).astype(int)\n",
        "score = eval_measures.meanabs(predictions, sj_y_test)\n",
        "print(score)"
      ],
      "metadata": {
        "colab": {
          "base_uri": "https://localhost:8080/"
        },
        "id": "b3_hmPKcJ25g",
        "outputId": "00679e3e-54eb-4f25-83b5-ce2cae8e3301"
      },
      "execution_count": null,
      "outputs": [
        {
          "output_type": "stream",
          "name": "stdout",
          "text": [
            "16.0531914893617\n"
          ]
        }
      ]
    },
    {
      "cell_type": "code",
      "source": [
        "feature_importance = boost.feature_importances_*100\n",
        "rel_imp = pd.Series(feature_importance, index=sj_X_train.columns).sort_values(ascending=False, inplace=False)\n",
        "rel_imp = rel_imp[0:20]\n",
        "rel_imp.plot(kind='barh', color='b', ).invert_yaxis()\n",
        "plt.xlabel('Variable Importance');"
      ],
      "metadata": {
        "colab": {
          "base_uri": "https://localhost:8080/",
          "height": 279
        },
        "id": "CG96v_fHLrgP",
        "outputId": "e9c0af9b-b4ac-42fd-9d47-8d56268c0399"
      },
      "execution_count": null,
      "outputs": [
        {
          "output_type": "display_data",
          "data": {
            "text/plain": [
              "<Figure size 432x288 with 1 Axes>"
            ],
            "image/png": "[encoded data removed]"
          },
          "metadata": {
            "needs_background": "light"
          }
        }
      ]
    },
    {
      "cell_type": "code",
      "source": [
        "boost = GradientBoostingRegressor(n_estimators=5000, learning_rate=0.01,random_state=1)\n",
        "boost.fit(iq_X_train, iq_y_train)"
      ],
      "metadata": {
        "colab": {
          "base_uri": "https://localhost:8080/"
        },
        "id": "F4iwnCiPLmVG",
        "outputId": "32078e39-93b6-4273-caac-dc8c70e49d09"
      },
      "execution_count": null,
      "outputs": [
        {
          "output_type": "execute_result",
          "data": {
            "text/plain": [
              "GradientBoostingRegressor(learning_rate=0.01, n_estimators=5000, random_state=1)"
            ]
          },
          "metadata": {},
          "execution_count": 102
        }
      ]
    },
    {
      "cell_type": "code",
      "source": [
        "predictions = boost.predict(iq_X_test).astype(int)\n",
        "score = eval_measures.meanabs(predictions, iq_y_test)\n",
        "print(score)"
      ],
      "metadata": {
        "colab": {
          "base_uri": "https://localhost:8080/"
        },
        "id": "252SnqNdJ69v",
        "outputId": "685fcc5d-f6ba-4e09-d9f3-4837dd6c9423"
      },
      "execution_count": null,
      "outputs": [
        {
          "output_type": "stream",
          "name": "stdout",
          "text": [
            "5.490384615384615\n"
          ]
        }
      ]
    },
    {
      "cell_type": "code",
      "source": [
        "feature_importance = boost.feature_importances_*100\n",
        "rel_imp = pd.Series(feature_importance, index=iq_X_train.columns).sort_values(ascending=False, inplace=False)\n",
        "rel_imp = rel_imp[0:20]\n",
        "rel_imp.plot(kind='barh', color='b', ).invert_yaxis()\n",
        "plt.xlabel('Variable Importance');"
      ],
      "metadata": {
        "colab": {
          "base_uri": "https://localhost:8080/",
          "height": 279
        },
        "id": "4z5VnR5HMDRg",
        "outputId": "6eedd1da-a8e2-46da-df0b-c82159bd0c49"
      },
      "execution_count": null,
      "outputs": [
        {
          "output_type": "display_data",
          "data": {
            "text/plain": [
              "<Figure size 432x288 with 1 Axes>"
            ],
            "image/png": "[encoded data removed]"
          },
          "metadata": {
            "needs_background": "light"
          }
        }
      ]
    },
    {
      "cell_type": "code",
      "source": [
        "print('MAE for GB split:' ,(16.0531*936+ 5.4903*520)/1456)"
      ],
      "metadata": {
        "colab": {
          "base_uri": "https://localhost:8080/"
        },
        "id": "0RidHD8Dh3va",
        "outputId": "b6c958dc-b43c-459c-8e3e-8705bb0dfeb4"
      },
      "execution_count": null,
      "outputs": [
        {
          "output_type": "stream",
          "name": "stdout",
          "text": [
            "MAE for GB split: 12.280671428571427\n"
          ]
        }
      ]
    },
    {
      "cell_type": "code",
      "source": [
        "from io import StringIO  \n",
        "\n",
        "import pydot\n",
        "from IPython.display import Image\n",
        "def print_tree(estimator, features, class_names=None, filled=True):\n",
        "    tree = estimator\n",
        "    names = features\n",
        "    color = filled\n",
        "    classn = class_names\n",
        "    \n",
        "    dot_data = StringIO()\n",
        "    export_graphviz(estimator, out_file=dot_data, feature_names=features, class_names=classn, filled=filled)\n",
        "    graph = pydot.graph_from_dot_data(dot_data.getvalue())\n",
        "    return(graph)"
      ],
      "metadata": {
        "id": "oBeFNc6eeQZZ"
      },
      "execution_count": null,
      "outputs": []
    },
    {
      "cell_type": "code",
      "source": [
        "tree_first = DecisionTreeRegressor(max_leaf_nodes=6,criterion=\"absolute_error\")"
      ],
      "metadata": {
        "id": "0iS73t9HeDp2"
      },
      "execution_count": null,
      "outputs": []
    },
    {
      "cell_type": "code",
      "source": [
        "tree_first.fit(iq_X_train, iq_y_train)\n",
        "graph, = print_tree(tree_first, features=X_train.columns)\n",
        "Image(graph.create_png())"
      ],
      "metadata": {
        "colab": {
          "base_uri": "https://localhost:8080/",
          "height": 653
        },
        "id": "7VBZqd7IenPF",
        "outputId": "14d3bc37-97ac-4c15-8660-411700d78575"
      },
      "execution_count": null,
      "outputs": [
        {
          "output_type": "execute_result",
          "data": {
            "image/png": "[encoded data removed]",
            "text/plain": [
              "<IPython.core.display.Image object>"
            ]
          },
          "metadata": {},
          "execution_count": 183
        }
      ]
    }
  ]
}